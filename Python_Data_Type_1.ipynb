{
  "nbformat": 4,
  "nbformat_minor": 0,
  "metadata": {
    "colab": {
      "name": "Python_Data_Type_1.ipynb",
      "version": "0.3.2",
      "provenance": [],
      "collapsed_sections": [
        "YSYeB3OMJjnc",
        "-dExz5ifJjn3",
        "rwugBwElJjoz",
        "9x86nIIJJjpj",
        "M-Hg_TAcJjqH",
        "m6e9JhAjJjqU",
        "IgjVsYzoJjrD",
        "2kyWGP3dJjrR",
        "lRN9-A-sJjrm",
        "q8MRqNOXJjru",
        "QGnMYVfUJjr6",
        "FfR9kAOMJjsL",
        "8CFqF_cEJjsR",
        "RqWZActVJjsj",
        "sDcg7QpGJjtD"
      ],
      "include_colab_link": true
    },
    "kernelspec": {
      "display_name": "Python 3",
      "language": "python",
      "name": "python3"
    }
  },
  "cells": [
    {
      "cell_type": "markdown",
      "metadata": {
        "id": "view-in-github",
        "colab_type": "text"
      },
      "source": [
        "<a href=\"https://colab.research.google.com/github/JulesKouatchou/PythonMaterials/blob/master/Python_Data_Type_1.ipynb\" target=\"_parent\"><img src=\"https://colab.research.google.com/assets/colab-badge.svg\" alt=\"Open In Colab\"/></a>"
      ]
    },
    {
      "metadata": {
        "id": "5Kxz0d3WJjlP",
        "colab_type": "code",
        "colab": {}
      },
      "cell_type": "code",
      "source": [
        "from IPython.core.interactiveshell import InteractiveShell\n",
        "InteractiveShell.ast_node_interactivity = \"all\""
      ],
      "execution_count": 0,
      "outputs": []
    },
    {
      "metadata": {
        "id": "GTl38L-7Jjlm",
        "colab_type": "text"
      },
      "cell_type": "markdown",
      "source": [
        "![NASA](http://www.nasa.gov/sites/all/themes/custom/nasatwo/images/nasa-logo.svg)\n",
        "\n",
        "<center><h1><font size=\"+3\">Python Course for Beginners</font></h1></center>\n",
        "\n",
        "---\n",
        "\n",
        "<center><h2>\n",
        "    <font color=\"red\">ASTG Python Camp (APyC)</font>  \n",
        "</h2></center>"
      ]
    },
    {
      "metadata": {
        "id": "-pLJVp6OJjlp",
        "colab_type": "text"
      },
      "cell_type": "markdown",
      "source": [
        "# Python Data Types I"
      ]
    },
    {
      "metadata": {
        "id": "GbJoe0SgJjls",
        "colab_type": "text"
      },
      "cell_type": "markdown",
      "source": [
        "<b>We will cover the following data types: </b>\n",
        "- Basic numeric\n",
        "- Boolean\n",
        "- String"
      ]
    },
    {
      "metadata": {
        "id": "GKCOtzeVJjlx",
        "colab_type": "text"
      },
      "cell_type": "markdown",
      "source": [
        "## Integers"
      ]
    },
    {
      "metadata": {
        "id": "_lYW5rNTJjl3",
        "colab_type": "text"
      },
      "cell_type": "markdown",
      "source": [
        "* There is no limit to how long an integer value can be.\n",
        "* The value is constrained by the amount of memory your system has."
      ]
    },
    {
      "metadata": {
        "id": "xJquETTpJjl5",
        "colab_type": "code",
        "colab": {}
      },
      "cell_type": "code",
      "source": [
        "print(123123123123123123123123123123123123123123123123 + 1)"
      ],
      "execution_count": 0,
      "outputs": []
    },
    {
      "metadata": {
        "id": "ilm3DGZ3JjmF",
        "colab_type": "text"
      },
      "cell_type": "markdown",
      "source": [
        "Python interprets a sequence of decimal digits without any prefix to be a decimal number:"
      ]
    },
    {
      "metadata": {
        "id": "4-mJXoA1JjmI",
        "colab_type": "code",
        "colab": {}
      },
      "cell_type": "code",
      "source": [
        "print(10)"
      ],
      "execution_count": 0,
      "outputs": []
    },
    {
      "metadata": {
        "scrolled": true,
        "id": "fHa-pDtoJjmU",
        "colab_type": "text"
      },
      "cell_type": "markdown",
      "source": [
        "The following strings can be prepended to an integer value to indicate a base other than 10:"
      ]
    },
    {
      "metadata": {
        "id": "bbSPJsyhJjma",
        "colab_type": "text"
      },
      "cell_type": "markdown",
      "source": [
        "\n",
        "| Prefix |\tInterpretation\t| Base |\n",
        "| --- | --- | --- | \n",
        "| 0b (zero + lowercase letter 'b') | Binary| \t2|\n",
        "| 0B (zero + uppercase letter 'B')|\t \n",
        "| 0o (zero + lowercase letter 'o')|  Octal| \t8|\n",
        "| 0O (zero + uppercase letter 'O')|\n",
        "| 0x (zero + lowercase letter 'x')|  Hexadecimal| \t16|\n",
        "| 0X (zero + uppercase letter 'X')| \t"
      ]
    },
    {
      "metadata": {
        "id": "aUyx3u5AJjmc",
        "colab_type": "code",
        "colab": {}
      },
      "cell_type": "code",
      "source": [
        "print(0o10)"
      ],
      "execution_count": 0,
      "outputs": []
    },
    {
      "metadata": {
        "id": "CyPoTNymJjmp",
        "colab_type": "code",
        "colab": {}
      },
      "cell_type": "code",
      "source": [
        "print(0x10)"
      ],
      "execution_count": 0,
      "outputs": []
    },
    {
      "metadata": {
        "scrolled": false,
        "id": "vo6sI4rXJjm0",
        "colab_type": "code",
        "colab": {}
      },
      "cell_type": "code",
      "source": [
        "print(0b10)"
      ],
      "execution_count": 0,
      "outputs": []
    },
    {
      "metadata": {
        "collapsed": true,
        "id": "qN7t-48_Jjm-",
        "colab_type": "text"
      },
      "cell_type": "markdown",
      "source": [
        "The underlying type of a Python integer, irrespective of the base used to specify it, is called int:"
      ]
    },
    {
      "metadata": {
        "id": "xzaVdMMyJjnB",
        "colab_type": "code",
        "colab": {}
      },
      "cell_type": "code",
      "source": [
        "type(10)"
      ],
      "execution_count": 0,
      "outputs": []
    },
    {
      "metadata": {
        "id": "4QBCPeTrJjnP",
        "colab_type": "code",
        "colab": {}
      },
      "cell_type": "code",
      "source": [
        "type(0o10)"
      ],
      "execution_count": 0,
      "outputs": []
    },
    {
      "metadata": {
        "id": "IvK3LbFvJjnW",
        "colab_type": "code",
        "colab": {}
      },
      "cell_type": "code",
      "source": [
        "type(0x10)"
      ],
      "execution_count": 0,
      "outputs": []
    },
    {
      "metadata": {
        "id": "YSYeB3OMJjnc",
        "colab_type": "text"
      },
      "cell_type": "markdown",
      "source": [
        "### Integer Arithmetic"
      ]
    },
    {
      "metadata": {
        "id": "PgGG7iMjJjnf",
        "colab_type": "code",
        "colab": {}
      },
      "cell_type": "code",
      "source": [
        "print(1 + 2)\n",
        "print(3 - 4)\n",
        "print(5 * 6)\n",
        "print(7 / 8)"
      ],
      "execution_count": 0,
      "outputs": []
    },
    {
      "metadata": {
        "id": "vkro0kv4Jjnn",
        "colab_type": "code",
        "colab": {}
      },
      "cell_type": "code",
      "source": [
        "print(17 / 3)  # gives 5.66666666667\n",
        "print(17 // 3)  # gives 5\n",
        "print(17 % 3)   # gives 2"
      ],
      "execution_count": 0,
      "outputs": []
    },
    {
      "metadata": {
        "id": "zALbE93dJjnx",
        "colab_type": "code",
        "colab": {}
      },
      "cell_type": "code",
      "source": [
        ""
      ],
      "execution_count": 0,
      "outputs": []
    },
    {
      "metadata": {
        "id": "-dExz5ifJjn3",
        "colab_type": "text"
      },
      "cell_type": "markdown",
      "source": [
        "## Floating Point Numbers"
      ]
    },
    {
      "metadata": {
        "id": "t_zoqirJJjn7",
        "colab_type": "text"
      },
      "cell_type": "markdown",
      "source": [
        "* The float type in Python designates a floating-point number. \n",
        "* Float values are specified with a decimal point. \n",
        "* The character e or E followed by a positive or negative integer may be appended to specify scientific notation."
      ]
    },
    {
      "metadata": {
        "id": "0Ms5cQSuJjn9",
        "colab_type": "code",
        "colab": {}
      },
      "cell_type": "code",
      "source": [
        "7.94"
      ],
      "execution_count": 0,
      "outputs": []
    },
    {
      "metadata": {
        "id": "i1W1NqQjJjoL",
        "colab_type": "code",
        "colab": {}
      },
      "cell_type": "code",
      "source": [
        "type(7.94)"
      ],
      "execution_count": 0,
      "outputs": []
    },
    {
      "metadata": {
        "id": "plK4Aeq4JjoU",
        "colab_type": "code",
        "colab": {}
      },
      "cell_type": "code",
      "source": [
        ".56"
      ],
      "execution_count": 0,
      "outputs": []
    },
    {
      "metadata": {
        "id": "gUSWjZRIJjod",
        "colab_type": "code",
        "colab": {}
      },
      "cell_type": "code",
      "source": [
        "56."
      ],
      "execution_count": 0,
      "outputs": []
    },
    {
      "metadata": {
        "id": "vdhUpGZ1Jjok",
        "colab_type": "code",
        "colab": {}
      },
      "cell_type": "code",
      "source": [
        "2.6e-5"
      ],
      "execution_count": 0,
      "outputs": []
    },
    {
      "metadata": {
        "id": "WberT222Jjou",
        "colab_type": "text"
      },
      "cell_type": "markdown",
      "source": [
        "* Floating point numbers are represented internally as binary (base-2) fractions. \n",
        "* Most decimal fractions cannot be represented exactly as binary fractions, so in most cases the internal representation of a floating-point number is an approximation of the actual value."
      ]
    },
    {
      "metadata": {
        "id": "rwugBwElJjoz",
        "colab_type": "text"
      },
      "cell_type": "markdown",
      "source": [
        "#### Operations on Floats"
      ]
    },
    {
      "metadata": {
        "id": "FV0byYV3Jjo3",
        "colab_type": "code",
        "colab": {}
      },
      "cell_type": "code",
      "source": [
        "print(int(1.3))   # gives 1\n",
        "print(int(1.7))   # gives 1\n",
        "print(int(-1.3))  # gives -1\n",
        "print(int(-1.7))  # gives -1"
      ],
      "execution_count": 0,
      "outputs": []
    },
    {
      "metadata": {
        "id": "6xSdSp00Jjo_",
        "colab_type": "code",
        "colab": {}
      },
      "cell_type": "code",
      "source": [
        "print(round(1.3))   # gives 1\n",
        "print(round(1.7))   # gives 2\n",
        "print(round(-1.3))  # gives -1\n",
        "print(round(-1.7))  # gives -2"
      ],
      "execution_count": 0,
      "outputs": []
    },
    {
      "metadata": {
        "id": "hOLV1djSJjpT",
        "colab_type": "code",
        "colab": {}
      },
      "cell_type": "code",
      "source": [
        "x = float(input())\n",
        "print(x)"
      ],
      "execution_count": 0,
      "outputs": []
    },
    {
      "metadata": {
        "id": "EBIXcZ2tJjpW",
        "colab_type": "code",
        "colab": {}
      },
      "cell_type": "code",
      "source": [
        ""
      ],
      "execution_count": 0,
      "outputs": []
    },
    {
      "metadata": {
        "id": "9x86nIIJJjpj",
        "colab_type": "text"
      },
      "cell_type": "markdown",
      "source": [
        "## Complex Numbers"
      ]
    },
    {
      "metadata": {
        "id": "NyECJ9YXJjpn",
        "colab_type": "text"
      },
      "cell_type": "markdown",
      "source": [
        "- A complex number consists of an ordered pair of real floating point numbers denoted by a + bj, where a is the real part and b is the imaginary part of the complex number."
      ]
    },
    {
      "metadata": {
        "id": "T72rgkS5Jjpq",
        "colab_type": "code",
        "colab": {}
      },
      "cell_type": "code",
      "source": [
        "3.0 + 9j"
      ],
      "execution_count": 0,
      "outputs": []
    },
    {
      "metadata": {
        "id": "OQCxh_hMJjpv",
        "colab_type": "code",
        "colab": {}
      },
      "cell_type": "code",
      "source": [
        "type(3.0+9j)"
      ],
      "execution_count": 0,
      "outputs": []
    },
    {
      "metadata": {
        "id": "rYmOr2D8Jjp3",
        "colab_type": "code",
        "colab": {}
      },
      "cell_type": "code",
      "source": [
        "a = complex(3.0,9)\n",
        "print(\"a = \", a)"
      ],
      "execution_count": 0,
      "outputs": []
    },
    {
      "metadata": {
        "id": "-kTPcnL3Jjp8",
        "colab_type": "code",
        "colab": {}
      },
      "cell_type": "code",
      "source": [
        "print('Real Part =', a.real)\n",
        "print('Imaginary Part =', a.imag)\n",
        "print('Complex conjugate =', a.conjugate())"
      ],
      "execution_count": 0,
      "outputs": []
    },
    {
      "metadata": {
        "id": "KLuYynmIJjqC",
        "colab_type": "code",
        "colab": {}
      },
      "cell_type": "code",
      "source": [
        "b = complex(1,2)\n",
        "print (\"a*a=\",a*a)\n",
        "print (\"a/b=\",a/b)\n",
        "print (\"a*a=\",a*a)"
      ],
      "execution_count": 0,
      "outputs": []
    },
    {
      "metadata": {
        "id": "M-Hg_TAcJjqH",
        "colab_type": "text"
      },
      "cell_type": "markdown",
      "source": [
        "## Booleans "
      ]
    },
    {
      "metadata": {
        "id": "Q7gVnLHnJjqJ",
        "colab_type": "text"
      },
      "cell_type": "markdown",
      "source": [
        "Boolean type may have one of two values, True or False:"
      ]
    },
    {
      "metadata": {
        "id": "l6fGh5dpJjqK",
        "colab_type": "code",
        "colab": {}
      },
      "cell_type": "code",
      "source": [
        "type(True)"
      ],
      "execution_count": 0,
      "outputs": []
    },
    {
      "metadata": {
        "id": "OfwaxJ-_JjqO",
        "colab_type": "code",
        "colab": {}
      },
      "cell_type": "code",
      "source": [
        "type(False)"
      ],
      "execution_count": 0,
      "outputs": []
    },
    {
      "metadata": {
        "id": "m6e9JhAjJjqU",
        "colab_type": "text"
      },
      "cell_type": "markdown",
      "source": [
        "## Strings"
      ]
    },
    {
      "metadata": {
        "id": "ghAmHRzyJjqV",
        "colab_type": "text"
      },
      "cell_type": "markdown",
      "source": [
        "* Strings are sequences of character data. \n",
        "* The string type in Python is called str.\n",
        "* String literals may be delimited using either single or double quotes.\n",
        "* All the characters between the opening delimiter and matching closing delimiter are part of the string.\n",
        "* <font color='blue'>Are immutable</font>."
      ]
    },
    {
      "metadata": {
        "id": "z2MNi1CzJjqW",
        "colab_type": "code",
        "colab": {}
      },
      "cell_type": "code",
      "source": [
        "print(\"Welcome to the Python Camp!\")"
      ],
      "execution_count": 0,
      "outputs": []
    },
    {
      "metadata": {
        "id": "BqPUnoauJjqb",
        "colab_type": "code",
        "colab": {}
      },
      "cell_type": "code",
      "source": [
        "type(\"Welcome to the Python Camp!\")"
      ],
      "execution_count": 0,
      "outputs": []
    },
    {
      "metadata": {
        "id": "LEYKLmLRJjqh",
        "colab_type": "text"
      },
      "cell_type": "markdown",
      "source": [
        "* A string in Python can contain as many characters as you wish.\n",
        "* The only limit is your machine’s memory resources. "
      ]
    },
    {
      "metadata": {
        "id": "_XP2G1-FJjql",
        "colab_type": "code",
        "colab": {}
      },
      "cell_type": "code",
      "source": [
        "print(\"This string contains a single quote (') character.\")"
      ],
      "execution_count": 0,
      "outputs": []
    },
    {
      "metadata": {
        "id": "NzMbP-oHJjqn",
        "colab_type": "code",
        "colab": {}
      },
      "cell_type": "code",
      "source": [
        "print('This string contains a double quote (\") character.')"
      ],
      "execution_count": 0,
      "outputs": []
    },
    {
      "metadata": {
        "id": "othYUajjJjqt",
        "colab_type": "text"
      },
      "cell_type": "markdown",
      "source": [
        "<b> Escape Sequences in Strings </b>"
      ]
    },
    {
      "metadata": {
        "id": "8hSffG3SJjqw",
        "colab_type": "code",
        "colab": {}
      },
      "cell_type": "code",
      "source": [
        "print('This string contains a single quote (\\') character.')"
      ],
      "execution_count": 0,
      "outputs": []
    },
    {
      "metadata": {
        "id": "UBXVzGopJjqz",
        "colab_type": "code",
        "colab": {}
      },
      "cell_type": "code",
      "source": [
        "print(\"This string contains a double quote (\\\") character.\")"
      ],
      "execution_count": 0,
      "outputs": []
    },
    {
      "metadata": {
        "id": "YBChrLSGJjq6",
        "colab_type": "code",
        "colab": {}
      },
      "cell_type": "code",
      "source": [
        "print('a\\\n",
        "b\\\n",
        "c')"
      ],
      "execution_count": 0,
      "outputs": []
    },
    {
      "metadata": {
        "id": "lblCfIEHJjq9",
        "colab_type": "code",
        "colab": {}
      },
      "cell_type": "code",
      "source": [
        "print('foo\\\\bar')"
      ],
      "execution_count": 0,
      "outputs": []
    },
    {
      "metadata": {
        "id": "IgjVsYzoJjrD",
        "colab_type": "text"
      },
      "cell_type": "markdown",
      "source": [
        "#### Applying Special Meaning to Characters"
      ]
    },
    {
      "metadata": {
        "id": "1xIGZe7kJjrE",
        "colab_type": "text"
      },
      "cell_type": "markdown",
      "source": [
        "We want to represent escape sequences that are typically used to insert characters that are not readily generated from the keyboard or are not easily readable or printable.\n",
        "<P>\n",
        "Here is a list of escape sequences that cause Python to apply special meaning instead of interpreting literally:\n",
        "\n",
        "| Escape Sequence| “Escaped” Interpretation |\n",
        "| --- | --- |\n",
        "| \\a\t| ASCII Bell (BEL) character\n",
        "| \\b\t| ASCII Backspace (BS) character\n",
        "| \\f\t| ASCII Formfeed (FF) character\n",
        "| \\n\t| ASCII Linefeed (LF) character\n",
        "| \\N{<name>}| \tCharacter from Unicode database with given <name>\n",
        "| \\r\t| ASCII Carriage Return (CR) character\n",
        "| \\t\t| ASCII Horizontal Tab (TAB) character\n",
        "| \\uxxxx\t| Unicode character with 16-bit hex value xxxx\n",
        "| \\Uxxxxxxxx\t| Unicode character with 32-bit hex value xxxxxxxx\n",
        "| \\v\t| ASCII Vertical Tab (VT) character\n",
        "| \\ooo\t| Character with octal value ooo\n",
        "| \\xhh\t| Character with hex value hh"
      ]
    },
    {
      "metadata": {
        "id": "sGO0fqnuJjrF",
        "colab_type": "code",
        "colab": {}
      },
      "cell_type": "code",
      "source": [
        "print(\"a\\tb\")"
      ],
      "execution_count": 0,
      "outputs": []
    },
    {
      "metadata": {
        "id": "AVDh_1RZJjrI",
        "colab_type": "code",
        "colab": {}
      },
      "cell_type": "code",
      "source": [
        "print(\"a\\141\\x61\")"
      ],
      "execution_count": 0,
      "outputs": []
    },
    {
      "metadata": {
        "id": "fZdY52MXJjrM",
        "colab_type": "code",
        "colab": {}
      },
      "cell_type": "code",
      "source": [
        "print(\"a\\nb\")"
      ],
      "execution_count": 0,
      "outputs": []
    },
    {
      "metadata": {
        "id": "QV69EjegJjrP",
        "colab_type": "code",
        "colab": {}
      },
      "cell_type": "code",
      "source": [
        "print('\\u2192 \\N{rightwards arrow}')"
      ],
      "execution_count": 0,
      "outputs": []
    },
    {
      "metadata": {
        "id": "2kyWGP3dJjrR",
        "colab_type": "text"
      },
      "cell_type": "markdown",
      "source": [
        "#### Raw Strings"
      ]
    },
    {
      "metadata": {
        "id": "hKJ-oBwgJjrS",
        "colab_type": "text"
      },
      "cell_type": "markdown",
      "source": [
        "- A raw string literal is preceded by r or R, which specifies that escape sequences in the associated string are not translated. \n",
        "- The backslash character is left in the string."
      ]
    },
    {
      "metadata": {
        "id": "sDi0l-lNJjrU",
        "colab_type": "code",
        "colab": {}
      },
      "cell_type": "code",
      "source": [
        "print('foo\\nbar')"
      ],
      "execution_count": 0,
      "outputs": []
    },
    {
      "metadata": {
        "id": "t_XO-8SZJjrY",
        "colab_type": "code",
        "colab": {}
      },
      "cell_type": "code",
      "source": [
        "print(r'foo\\nbar')"
      ],
      "execution_count": 0,
      "outputs": []
    },
    {
      "metadata": {
        "id": "LbyU2Y6mJjra",
        "colab_type": "code",
        "colab": {}
      },
      "cell_type": "code",
      "source": [
        "print('foo\\\\bar')"
      ],
      "execution_count": 0,
      "outputs": []
    },
    {
      "metadata": {
        "id": "URzJ3GfAJjrh",
        "colab_type": "code",
        "colab": {}
      },
      "cell_type": "code",
      "source": [
        "print(R'foo\\\\bar')"
      ],
      "execution_count": 0,
      "outputs": []
    },
    {
      "metadata": {
        "collapsed": true,
        "id": "lRN9-A-sJjrm",
        "colab_type": "text"
      },
      "cell_type": "markdown",
      "source": [
        "#### Triple Quotes"
      ]
    },
    {
      "metadata": {
        "id": "C_LwDV-dJjrn",
        "colab_type": "text"
      },
      "cell_type": "markdown",
      "source": [
        "- Triple-quoted strings are delimited by matching groups of three single quotes or three double quotes. \n",
        "- Escape sequences still work in triple-quoted strings, but single quotes, double quotes, and newlines can be included without escaping them. \n",
        "- Provide a convenient way to create a string with both single and double quotes in it."
      ]
    },
    {
      "metadata": {
        "id": "L7cBZZWaJjrn",
        "colab_type": "code",
        "colab": {}
      },
      "cell_type": "code",
      "source": [
        "print('''This string has a single (') and a double (\") quote.''')"
      ],
      "execution_count": 0,
      "outputs": []
    },
    {
      "metadata": {
        "id": "z3aFrJ91Jjrp",
        "colab_type": "code",
        "colab": {}
      },
      "cell_type": "code",
      "source": [
        "print(\"\"\"This is a\n",
        "string that spans\n",
        "across several lines\"\"\")"
      ],
      "execution_count": 0,
      "outputs": []
    },
    {
      "metadata": {
        "id": "q8MRqNOXJjru",
        "colab_type": "text"
      },
      "cell_type": "markdown",
      "source": [
        "#### Accessing Values in Strings\n",
        "- Python does not support a character type; these are treated as strings of length one, thus also considered a substring.\n",
        "- To access substrings, use the square brackets for slicing along with the index or indices to obtain your substring"
      ]
    },
    {
      "metadata": {
        "id": "3SAZQgQ9Jjrv",
        "colab_type": "code",
        "colab": {}
      },
      "cell_type": "code",
      "source": [
        "astring1 = \"Welcome to the Python Camp!\"\n",
        "astring2 = \"A Training Course for Beginners.\""
      ],
      "execution_count": 0,
      "outputs": []
    },
    {
      "metadata": {
        "id": "OS6ChqVeJjr2",
        "colab_type": "code",
        "colab": {}
      },
      "cell_type": "code",
      "source": [
        "print(astring1[3:15])\n",
        "print(astring1[3:15:1])\n",
        "print(astring1[3:15:2])"
      ],
      "execution_count": 0,
      "outputs": []
    },
    {
      "metadata": {
        "id": "QGnMYVfUJjr6",
        "colab_type": "text"
      },
      "cell_type": "markdown",
      "source": [
        "#### Udapting Strings\n",
        "- You cannot modify a string for a string is immutable.\n",
        "- You can \"update\" an existing string by (re)assigning a variable to another string. \n",
        "- The new value can be related to its previous value or to a completely different string altogether."
      ]
    },
    {
      "metadata": {
        "id": "MQLGV57RJjr7",
        "colab_type": "code",
        "colab": {}
      },
      "cell_type": "code",
      "source": [
        "astring1[7] = 'T'"
      ],
      "execution_count": 0,
      "outputs": []
    },
    {
      "metadata": {
        "id": "16GprydYJjr-",
        "colab_type": "code",
        "colab": {}
      },
      "cell_type": "code",
      "source": [
        "astring3 = astring1 + \" \" + astring2[0] + \" \" + astring2[11:]\n",
        "print(astring3)"
      ],
      "execution_count": 0,
      "outputs": []
    },
    {
      "metadata": {
        "id": "NMDcEOsbJjsH",
        "colab_type": "code",
        "colab": {}
      },
      "cell_type": "code",
      "source": [
        "print(astring1*2)\n",
        "print(astring2 * -1)"
      ],
      "execution_count": 0,
      "outputs": []
    },
    {
      "metadata": {
        "id": "ttVjFPMBJjsJ",
        "colab_type": "code",
        "colab": {}
      },
      "cell_type": "code",
      "source": [
        "print ( \"Python\" in astring1)\n",
        "print ( \"python\" in astring1)\n",
        "print ( \"python\" not in astring1)"
      ],
      "execution_count": 0,
      "outputs": []
    },
    {
      "metadata": {
        "id": "FfR9kAOMJjsL",
        "colab_type": "text"
      },
      "cell_type": "markdown",
      "source": [
        "#### String Formatting Operator\n",
        "\n",
        "- The string format operator is: %"
      ]
    },
    {
      "metadata": {
        "id": "xWLCem5IJjsN",
        "colab_type": "code",
        "colab": {}
      },
      "cell_type": "code",
      "source": [
        "print(\"Big Announcement:  %s  for today\" %(astring3))"
      ],
      "execution_count": 0,
      "outputs": []
    },
    {
      "metadata": {
        "id": "8CFqF_cEJjsR",
        "colab_type": "text"
      },
      "cell_type": "markdown",
      "source": [
        "#### Built-in in String Operators"
      ]
    },
    {
      "metadata": {
        "id": "UBlH4DdzJjsU",
        "colab_type": "code",
        "colab": {}
      },
      "cell_type": "code",
      "source": [
        "print(len(astring1))\n",
        "print(astring1.index(\"o\"))"
      ],
      "execution_count": 0,
      "outputs": []
    },
    {
      "metadata": {
        "id": "46wbvftMJjsY",
        "colab_type": "code",
        "colab": {}
      },
      "cell_type": "code",
      "source": [
        "print(astring1.index(\"o\"))\n",
        "print(astring1.count(\"t\"))"
      ],
      "execution_count": 0,
      "outputs": []
    },
    {
      "metadata": {
        "id": "JZ3aT_orJjsb",
        "colab_type": "code",
        "colab": {}
      },
      "cell_type": "code",
      "source": [
        "print(astring1.upper())\n",
        "print(astring1.lower())"
      ],
      "execution_count": 0,
      "outputs": []
    },
    {
      "metadata": {
        "id": "7G0A9Z7CJjsg",
        "colab_type": "code",
        "colab": {}
      },
      "cell_type": "code",
      "source": [
        "print(astring1.startswith(\"Wel\"))\n",
        "print(astring1.endswith(\"asdfasdfasdf\"))"
      ],
      "execution_count": 0,
      "outputs": []
    },
    {
      "metadata": {
        "id": "RqWZActVJjsj",
        "colab_type": "text"
      },
      "cell_type": "markdown",
      "source": [
        "## Type Conversion"
      ]
    },
    {
      "metadata": {
        "id": "0PCbQgfjJjsk",
        "colab_type": "code",
        "colab": {}
      },
      "cell_type": "code",
      "source": [
        "v1 = int(2.7)      # 2\n",
        "v2 = int(-3.9)     # -3\n",
        "v3 = int(\"2\")      # 2\n",
        "v4 = int(\"11\", 16) # 17, base 16\n",
        "v6 = float(2)        # 2.0\n",
        "v7 = float(\"2.7\")    # 2.7\n",
        "v8 = float(\"2.7E-2\") # 0.027\n",
        "v9 = float(False)    # 0.0\n",
        "vA = float(True)     # 1.0\n",
        "vB = str(4.5)        # \"4.5\"\n",
        "vD = bool(0)         #       False; bool fn since Python 2.2.1\n",
        "vE = bool(3)          # True\n",
        "print(v1, v2, v3, type(v1), type(v2), type(v3))"
      ],
      "execution_count": 0,
      "outputs": []
    },
    {
      "metadata": {
        "id": "q2yCr0QJJjso",
        "colab_type": "code",
        "colab": {}
      },
      "cell_type": "code",
      "source": [
        "int1 = 4\n",
        "float1 = int1 + 2.1 # 4 converted to float\n",
        "# str1 = \"My int:\" + int1 # Error: no implicit type conversion from int to string\n",
        "str1 = \"My int:\" + str(int1)\n",
        "int2 = 4 + True # 5: bool is implicitly converted to int\n",
        "print(\"float1 = \", float1, \"\\n\", \"str1  = \", str1, \"\\n\", \"int2  = \", int2)"
      ],
      "execution_count": 0,
      "outputs": []
    },
    {
      "metadata": {
        "id": "3D_CXuMyJjs3",
        "colab_type": "code",
        "colab": {}
      },
      "cell_type": "code",
      "source": [
        "age = 21\n",
        "sign = 'You must be ' + str(age) + '-years-old to enter this bar'\n",
        "print(sign)"
      ],
      "execution_count": 0,
      "outputs": []
    },
    {
      "metadata": {
        "id": "7t2AMd-nJjs9",
        "colab_type": "text"
      },
      "cell_type": "markdown",
      "source": [
        "# Exercise"
      ]
    },
    {
      "metadata": {
        "id": "60YhMooJJjs-",
        "colab_type": "text"
      },
      "cell_type": "markdown",
      "source": [
        "Try to fix the code to print out the correct information by changing the string."
      ]
    },
    {
      "metadata": {
        "id": "ixUpHCHkJjs_",
        "colab_type": "code",
        "colab": {}
      },
      "cell_type": "code",
      "source": [
        "s = \"Hey there! what should this string be?\"\n",
        "# Length should be 20\n",
        "print(\"Length of s = %d\" % len(s))\n",
        "\n",
        "# First occurrence of \"a\" should be at index 8\n",
        "print(\"The first occurrence of the letter a = %d\" % s.index(\"a\"))\n",
        "\n",
        "# Number of a's should be 2\n",
        "print(\"a occurs %d times\" % s.count(\"a\"))\n"
      ],
      "execution_count": 0,
      "outputs": []
    },
    {
      "metadata": {
        "id": "sDcg7QpGJjtD",
        "colab_type": "text"
      },
      "cell_type": "markdown",
      "source": [
        "## Quiz \n",
        "\n",
        "<A HREF=\"https://realpython.com/quizzes/python-data-types/\"> Basic Data Types </A>\n"
      ]
    },
    {
      "metadata": {
        "id": "TGzlFWseJjtF",
        "colab_type": "code",
        "colab": {}
      },
      "cell_type": "code",
      "source": [
        ""
      ],
      "execution_count": 0,
      "outputs": []
    }
  ]
}