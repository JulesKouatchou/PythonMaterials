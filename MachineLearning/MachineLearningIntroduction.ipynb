{
 "cells": [
  {
   "cell_type": "code",
   "execution_count": 1,
   "metadata": {},
   "outputs": [],
   "source": [
    "from IPython.core.interactiveshell import InteractiveShell\n",
    "InteractiveShell.ast_node_interactivity = \"all\""
   ]
  },
  {
   "cell_type": "markdown",
   "metadata": {},
   "source": [
    "![NASA](http://www.nasa.gov/sites/all/themes/custom/nasatwo/images/nasa-logo.svg)\n",
    "\n",
    "<center><h1><font size=\"+3\">Python Course for Advance Users</font></h1></center>\n",
    "\n",
    "---\n",
    "\n",
    "<center><h2>GSFC - NCCS Series</h2></center>"
   ]
  },
  {
   "cell_type": "markdown",
   "metadata": {},
   "source": [
    "# Introduction to Machine Learning"
   ]
  },
  {
   "cell_type": "markdown",
   "metadata": {},
   "source": [
    "## What We Will Cover\n",
    "\n",
    "- What is Machine Learning (ML)?\n",
    "- How Does ML Work?\n",
    "- ML Algorithms\n",
    "- Importance of ML\n",
    "- Some Real Life Applications"
   ]
  },
  {
   "cell_type": "markdown",
   "metadata": {},
   "source": [
    "## Useful Links\n",
    "\n",
    "<OL>\n",
    "    <LI> <A HREF=\"http://ciml.info/dl/v0_8/ciml-v0_8-all.pdf\"> A Course in Machine Learning </A>\n",
    "<LI> <A HREF=\"https://www.guru99.com/machine-learning-tutorial.html\"> What is Machine Learning? A Beginners Tutorial </A>\n",
    "<LI> <A HREF=\"https://galaxyproject.github.io/training-material/topics/statistics/tutorials/machinelearning/tutorial.html\"> Basic of Machine Learning </A>\n",
    "<LI> <A HREF=\"https://www.toptal.com/machine-learning/machine-learning-theory-an-introductory-primer\"> An Introduction to Machine Learning Theory and Its Applications: A Visual Tutorial with Examples</A>\n",
    "<LI> <A HREF=\"https://machinelearningmastery.com/start-here/\"> Need Help Getting Started with Applied Machine Learning?</A>\n",
    "</OL>"
   ]
  },
  {
   "cell_type": "markdown",
   "metadata": {},
   "source": [
    "## What is ML?\n",
    "\n",
    "- A system that can learn from example through self-improvement and without being explicitly coded by programmer.\n",
    "- Combines data with statistical tools to predict an output. \n",
    "- Learns how the input and output data are correlated and it writes a rule to derive outputs from new inputs."
   ]
  },
  {
   "cell_type": "markdown",
   "metadata": {},
   "source": [
    "## How does ML Work?\n",
    "\n",
    "<UL>\n",
    "    <LI> To make an accurate prediction, ML sees an example, and when give a similar example, it can figure out the outcome. \n",
    "<LI>The core objective of ML is the <b>learning</b> and <b>inference</b>.\n",
    "    <OL>\n",
    "        <LI> ML learns through the discovery of patterns that is made thanks to the <b>data</b>.\n",
    "            <LI> The list of attributes used to solve a problem is called a <b>feature vector</b>.\n",
    "    </OL>\n",
    "</UL>"
   ]
  },
  {
   "cell_type": "markdown",
   "metadata": {},
   "source": [
    "### Learning\n",
    "\n",
    "- ML uses algorithms to simplify the reality and transform this discovery into a <b>model</b>. \n",
    "- The learning stage is used to describe the data and summarize it into a model."
   ]
  },
  {
   "cell_type": "markdown",
   "metadata": {},
   "source": [
    "![title](WhatisMachi3.png)"
   ]
  },
  {
   "cell_type": "markdown",
   "metadata": {},
   "source": [
    "### Inferring\n",
    "- When the model is built, we can test it with new data.\n",
    "- New data are are transformed into a feature vector, go through the model and give a prediction.\n",
    "- The model previously trained (on old data) is used to make inference on new data."
   ]
  },
  {
   "cell_type": "markdown",
   "metadata": {},
   "source": [
    "![title](WhatisMachi4.png)"
   ]
  },
  {
   "cell_type": "markdown",
   "metadata": {},
   "source": [
    "### Main Steps of a ML Program\n",
    "\n",
    "<OL>\n",
    "<LI> Define a question\n",
    "<LI> Collect data\n",
    "<LI> Visualize data (if possible)\n",
    "<LI> Train algorithm\n",
    "<LI> Test the Algorithm\n",
    "<LI> Collect feedback\n",
    "<LI> Refine the algorithm\n",
    "<LI> Loop 4-7 until the results are satisfying\n",
    "<LI> Use the model to make a prediction\n",
    "</OL>"
   ]
  },
  {
   "cell_type": "markdown",
   "metadata": {},
   "source": [
    "## ML Algorithms"
   ]
  },
  {
   "cell_type": "markdown",
   "metadata": {},
   "source": [
    "![title](WhatisMachi5.png)"
   ]
  },
  {
   "cell_type": "markdown",
   "metadata": {},
   "source": [
    "Machine learning can be grouped into two broad learning tasks: \n",
    "<OL>\n",
    "<LI> <b>Supervised Learning: </b> The program is “trained” on a pre-defined set of “training examples”, which then facilitate its ability to reach an accurate conclusion when given new data. \n",
    "<LI> <b>Unsupervised Learning: </b> The program is given a bunch of data and must find patterns and relationships therein. It is used to detect anomalies, outliers, such as fraud or defective equipment, or to group customers with similar behaviors for a sales campaign. There is no labeled data here.\n",
    "</OL>"
   ]
  },
  {
   "cell_type": "markdown",
   "metadata": {},
   "source": [
    "![title](variants_ml.png)"
   ]
  },
  {
   "cell_type": "markdown",
   "metadata": {},
   "source": [
    "## Importance of ML\n",
    "\n",
    "- Great tool to analyze, understand and identify a pattern in the data. \n",
    "- Used to train computers to automate tasks that would be exhaustive or impossible for a human being. \n",
    "- Used to translate the knowledge of an expert into features. "
   ]
  },
  {
   "cell_type": "markdown",
   "metadata": {},
   "source": [
    "## Some Real Applications"
   ]
  },
  {
   "cell_type": "markdown",
   "metadata": {},
   "source": [
    "![title](usage_ml.png)"
   ]
  },
  {
   "cell_type": "code",
   "execution_count": null,
   "metadata": {},
   "outputs": [],
   "source": []
  }
 ],
 "metadata": {
  "anaconda-cloud": {},
  "kernelspec": {
   "display_name": "Python 3",
   "language": "python",
   "name": "python3"
  },
  "language_info": {
   "codemirror_mode": {
    "name": "ipython",
    "version": 3
   },
   "file_extension": ".py",
   "mimetype": "text/x-python",
   "name": "python",
   "nbconvert_exporter": "python",
   "pygments_lexer": "ipython3",
   "version": "3.7.1"
  }
 },
 "nbformat": 4,
 "nbformat_minor": 1
}
