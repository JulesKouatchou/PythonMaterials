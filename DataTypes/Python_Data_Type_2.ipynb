{
  "nbformat": 4,
  "nbformat_minor": 0,
  "metadata": {
    "colab": {
      "name": "Python_Data_Type_2.ipynb",
      "version": "0.3.2",
      "provenance": [],
      "collapsed_sections": [
        "G01ISVR6JwZv",
        "6SlNiz3uJwbC",
        "meucI5JDJwbi",
        "Z_7gZ741Jwb2",
        "MGcAZvvBJwcG",
        "hEl3eSJbJwcW",
        "nV8scI9yJwcm",
        "xCF2S1kTJwdc",
        "6q_6witfJwdo",
        "XIVfDW5IJwd6",
        "d68Ou94EJweC",
        "wJ6Na-xqJwea",
        "sWsDCgePJwes",
        "F2Kxel56Jweu",
        "gX8W2uP5JwfB",
        "Wbq3o1JBJwfP",
        "h4t7mC3MJwfZ",
        "wdb1mI_YJwff",
        "qwpHvLBKJwfr",
        "P2SF2gvqJwf4"
      ],
      "include_colab_link": true
    },
    "kernelspec": {
      "display_name": "Python 3",
      "language": "python",
      "name": "python3"
    }
  },
  "cells": [
    {
      "cell_type": "markdown",
      "metadata": {
        "id": "view-in-github",
        "colab_type": "text"
      },
      "source": [
        "<a href=\"https://colab.research.google.com/github/JulesKouatchou/PythonMaterials/blob/master/Python_Data_Type_2.ipynb\" target=\"_parent\"><img src=\"https://colab.research.google.com/assets/colab-badge.svg\" alt=\"Open In Colab\"/></a>"
      ]
    },
    {
      "metadata": {
        "id": "fQ-vd3IqJwXN",
        "colab_type": "code",
        "colab": {}
      },
      "cell_type": "code",
      "source": [
        "from IPython.core.interactiveshell import InteractiveShell\n",
        "InteractiveShell.ast_node_interactivity = \"all\""
      ],
      "execution_count": 0,
      "outputs": []
    },
    {
      "metadata": {
        "id": "Ypn0VyfMJwXi",
        "colab_type": "text"
      },
      "cell_type": "markdown",
      "source": [
        "![NASA](http://www.nasa.gov/sites/all/themes/custom/nasatwo/images/nasa-logo.svg)\n",
        "\n",
        "\n",
        "<center><h1><font size=\"+3\" color=\"red\">ASTG Python Camp (APyC)</font></h1></center>\n",
        "\n",
        "---\n",
        "\n",
        "<center><h2>\n",
        "    <font color=\"red\">Beginner Class</font>  \n",
        "</h2></center>"
      ]
    },
    {
      "metadata": {
        "id": "SlEsRafRJwXn",
        "colab_type": "text"
      },
      "cell_type": "markdown",
      "source": [
        "# Python Data Types II"
      ]
    },
    {
      "metadata": {
        "id": "YpLNw3fmJwXr",
        "colab_type": "text"
      },
      "cell_type": "markdown",
      "source": [
        "<b>We will cover the following data types: </b>\n",
        "- <A HREF=\"https://www.programiz.com/python-programming/list\"> List </A>\n",
        "- <A HREF=\"https://www.programiz.com/python-programming/dictionary\"> Dictionary </A>\n",
        "- <A HREF=\"https://www.programiz.com/python-programming/tuple\"> Tuple </A>\n",
        "- <A HREF=\"https://www.programiz.com/python-programming/set\"> Set </A>\n",
        "- <A HREF=\"https://pymotw.com/2/collections/counter.html\"> Counter </A>"
      ]
    },
    {
      "metadata": {
        "id": "9_XBMCgHJwXv",
        "colab_type": "text"
      },
      "cell_type": "markdown",
      "source": [
        "## Lists"
      ]
    },
    {
      "metadata": {
        "id": "Cx9xmIPQJwXz",
        "colab_type": "text"
      },
      "cell_type": "markdown",
      "source": [
        "* A list is an ordered collection of elements. \n",
        "* Defined by enclosing a comma-separated sequence of objects in square brackets ([])\n",
        "* Elements can be accessed by index.\n",
        "* Grow and shrink as needed.\n",
        "* Can contain a mix of types\n",
        "* <font color='blue'>Are mutable</font>."
      ]
    },
    {
      "metadata": {
        "id": "uU5zFXgKJwX3",
        "colab_type": "text"
      },
      "cell_type": "markdown",
      "source": [
        "#### Initialization"
      ]
    },
    {
      "metadata": {
        "id": "M3kJ0yKvJwX7",
        "colab_type": "code",
        "colab": {}
      },
      "cell_type": "code",
      "source": [
        "empty_list = []"
      ],
      "execution_count": 0,
      "outputs": []
    },
    {
      "metadata": {
        "scrolled": true,
        "id": "HpQRXSaMJwYG",
        "colab_type": "code",
        "colab": {}
      },
      "cell_type": "code",
      "source": [
        "some_primes = [2, 3, 5, 7, 11, 13, 17]\n",
        "shoplist = ['apple', 'mango', 'orange']"
      ],
      "execution_count": 0,
      "outputs": []
    },
    {
      "metadata": {
        "id": "JSWtAPv4JwYQ",
        "colab_type": "text"
      },
      "cell_type": "markdown",
      "source": [
        "#### Access elements"
      ]
    },
    {
      "metadata": {
        "id": "vyEc6AVYJwYT",
        "colab_type": "code",
        "colab": {}
      },
      "cell_type": "code",
      "source": [
        "some_primes[0::2]\n",
        "shoplist[1]\n",
        "shoplist[2:4]"
      ],
      "execution_count": 0,
      "outputs": []
    },
    {
      "metadata": {
        "id": "A4WU-bP9JwYd",
        "colab_type": "code",
        "colab": {}
      },
      "cell_type": "code",
      "source": [
        "# This is how one iterates over a list\n",
        "for item in shoplist:        \n",
        "    print item,"
      ],
      "execution_count": 0,
      "outputs": []
    },
    {
      "metadata": {
        "scrolled": false,
        "id": "yRBir7adJwYm",
        "colab_type": "code",
        "colab": {}
      },
      "cell_type": "code",
      "source": [
        "for item in (range(len(shoplist)-1,-1,-1)):        \n",
        "    print shoplist[item],"
      ],
      "execution_count": 0,
      "outputs": []
    },
    {
      "metadata": {
        "id": "MXzVCo_mJwYx",
        "colab_type": "code",
        "colab": {}
      },
      "cell_type": "code",
      "source": [
        "for item in reversed(shoplist):        \n",
        "    print item,"
      ],
      "execution_count": 0,
      "outputs": []
    },
    {
      "metadata": {
        "collapsed": true,
        "id": "vlDUsu_PJwY9",
        "colab_type": "text"
      },
      "cell_type": "markdown",
      "source": [
        "Sometimes we need to loop over a list and retrieve the element and its correponding index"
      ]
    },
    {
      "metadata": {
        "id": "vCr-TyxjJwY_",
        "colab_type": "code",
        "colab": {}
      },
      "cell_type": "code",
      "source": [
        "i = 0\n",
        "for item in shoplist:\n",
        "    print i,'--->',shoplist[i]\n",
        "    i += 1"
      ],
      "execution_count": 0,
      "outputs": []
    },
    {
      "metadata": {
        "id": "Owg7cWrvJwZG",
        "colab_type": "code",
        "colab": {}
      },
      "cell_type": "code",
      "source": [
        "for i in range(len(shoplist)):\n",
        "    print i, '--->', shoplist[i]"
      ],
      "execution_count": 0,
      "outputs": []
    },
    {
      "metadata": {
        "id": "4EJ9P-H7JwZN",
        "colab_type": "text"
      },
      "cell_type": "markdown",
      "source": [
        "The <font color='blue'>enumerate</font> function  gives us an iterable where each element is an object (called a tuple) that contains the index of the item and the original item value."
      ]
    },
    {
      "metadata": {
        "id": "LiSs2wtOJwZP",
        "colab_type": "code",
        "colab": {}
      },
      "cell_type": "code",
      "source": [
        "for i, name in enumerate(shoplist, start=1): # optional start=1 argument\n",
        "    print \"item {}: {}\".format(i, name)"
      ],
      "execution_count": 0,
      "outputs": []
    },
    {
      "metadata": {
        "id": "jOnQpYSHJwZY",
        "colab_type": "text"
      },
      "cell_type": "markdown",
      "source": [
        "Looping over two lists."
      ]
    },
    {
      "metadata": {
        "id": "xxYEJXVOJwZc",
        "colab_type": "code",
        "colab": {}
      },
      "cell_type": "code",
      "source": [
        "colors = ['red','yellow','orange']\n",
        "for i in range(len(shoplist)):\n",
        "    print shoplist[i], '--->', colors[i]"
      ],
      "execution_count": 0,
      "outputs": []
    },
    {
      "metadata": {
        "id": "VO38ECRzJwZl",
        "colab_type": "text"
      },
      "cell_type": "markdown",
      "source": [
        "Use <font color='blue'>zip</font>*"
      ]
    },
    {
      "metadata": {
        "id": "Y9hsb990JwZo",
        "colab_type": "code",
        "colab": {}
      },
      "cell_type": "code",
      "source": [
        "for item, color in zip(shoplist, colors):\n",
        "    print item, '--->', color"
      ],
      "execution_count": 0,
      "outputs": []
    },
    {
      "metadata": {
        "id": "G01ISVR6JwZv",
        "colab_type": "text"
      },
      "cell_type": "markdown",
      "source": [
        "#### Lists are mutable."
      ]
    },
    {
      "metadata": {
        "id": "vuEeKtC4JwZw",
        "colab_type": "code",
        "colab": {}
      },
      "cell_type": "code",
      "source": [
        "print 'I have', len(shoplist), 'items to purchase. The list ID is ',id(shoplist)"
      ],
      "execution_count": 0,
      "outputs": []
    },
    {
      "metadata": {
        "id": "jw8asxKvJwZ-",
        "colab_type": "code",
        "colab": {}
      },
      "cell_type": "code",
      "source": [
        "print 'I also have to buy a banana.'\n",
        "shoplist.append('banana')\n",
        "print 'My shopping list is now ', shoplist,'The list ID is ',id(shoplist)\n",
        "\n",
        "print 'I will sort my list now'\n",
        "shoplist.sort() # Note that the sort is done ON the list, i.e. it is mutated\n",
        "print 'Sorted shopping list is', shoplist,'The list ID is still ',id(shoplist)\n",
        "\n",
        "# Can also use sorted(x) - does not mutate the original list"
      ],
      "execution_count": 0,
      "outputs": []
    },
    {
      "metadata": {
        "id": "DxEObN0EJwaG",
        "colab_type": "code",
        "colab": {}
      },
      "cell_type": "code",
      "source": [
        "# What happens here?\n",
        "shoplist.append('apple')\n",
        "print shoplist"
      ],
      "execution_count": 0,
      "outputs": []
    },
    {
      "metadata": {
        "id": "hEYFHr8QJwaO",
        "colab_type": "code",
        "colab": {}
      },
      "cell_type": "code",
      "source": [
        "# Extend (like +)\n",
        "veggies = ['carrot','broccoli']\n",
        "shoplist.extend(veggies)\n",
        "print shoplist"
      ],
      "execution_count": 0,
      "outputs": []
    },
    {
      "metadata": {
        "id": "spTZL1iMJwaW",
        "colab_type": "code",
        "colab": {}
      },
      "cell_type": "code",
      "source": [
        "# Insert : insert(index, item)\n",
        "shoplist.insert(2, 'pineapple')\n",
        "print shoplist"
      ],
      "execution_count": 0,
      "outputs": []
    },
    {
      "metadata": {
        "id": "tPCHtelJJwai",
        "colab_type": "text"
      },
      "cell_type": "markdown",
      "source": [
        "More help"
      ]
    },
    {
      "metadata": {
        "id": "xqAr8LrfJwam",
        "colab_type": "code",
        "colab": {}
      },
      "cell_type": "code",
      "source": [
        "shoplist.<TAB>"
      ],
      "execution_count": 0,
      "outputs": []
    },
    {
      "metadata": {
        "id": "dYUcx2EVJway",
        "colab_type": "code",
        "colab": {}
      },
      "cell_type": "code",
      "source": [
        "# Mixed types\n",
        "P = ['Wednesday', 'April', 5, 2017, ('a','b','c')]\n",
        "print P[0:4]\n",
        "print P[4]"
      ],
      "execution_count": 0,
      "outputs": []
    },
    {
      "metadata": {
        "id": "XqCln4EhJwa9",
        "colab_type": "code",
        "colab": {}
      },
      "cell_type": "code",
      "source": [
        "# Multi-dimensional list\n",
        "A = [[1, 3], [2, 4], [1, 9], [4, 16]]\n",
        "print A[0]\n",
        "print A[2][0]"
      ],
      "execution_count": 0,
      "outputs": []
    },
    {
      "metadata": {
        "id": "6SlNiz3uJwbC",
        "colab_type": "text"
      },
      "cell_type": "markdown",
      "source": [
        "#### Exercise\n",
        "\n",
        "Transform the gettysburg_address string into a list whose elements are just the words in the text (no punctuation or special characters). Then print the list and the list length (i.e. number of words in the Gettysburg address). "
      ]
    },
    {
      "metadata": {
        "id": "L__OTJH3JwbD",
        "colab_type": "code",
        "colab": {}
      },
      "cell_type": "code",
      "source": [
        "gettysburg_address = \"\"\"\n",
        "Four score and seven years ago our fathers brought forth on this continent, \n",
        "a new nation, conceived in Liberty, and dedicated to the proposition that \n",
        "all men are created equal.\n",
        "\n",
        "Now we are engaged in a great civil war, testing whether that nation, or \n",
        "any nation so conceived and so dedicated, can long endure. We are met on\n",
        "a great battle-field of that war. We have come to dedicate a portion of\n",
        "that field, as a final resting place for those who here gave their lives\n",
        "that that nation might live. It is altogether fitting and proper that we\n",
        "should do this.\n",
        "\n",
        "But, in a larger sense, we can not dedicate -- we can not consecrate -- we\n",
        "can not hallow -- this ground. The brave men, living and dead, who struggled\n",
        "here, have consecrated it, far above our poor power to add or detract.  The\n",
        "world will little note, nor long remember what we say here, but it can never\n",
        "forget what they did here. It is for us the living, rather, to be dedicated\n",
        "here to the unfinished work which they who fought here have thus far so nobly\n",
        "advanced. It is rather for us to be here dedicated to the great task remaining\n",
        "before us -- that from these honored dead we take increased devotion to that\n",
        "cause for which they gave the last full measure of devotion -- that we here\n",
        "highly resolve that these dead shall not have died in vain -- that this\n",
        "nation, under God, shall have a new birth of freedom -- and that government\n",
        "of the people, by the people, for the people, shall not perish from the earth.\n",
        "\"\"\""
      ],
      "execution_count": 0,
      "outputs": []
    },
    {
      "metadata": {
        "id": "r3xCP_TiJwbS",
        "colab_type": "code",
        "colab": {}
      },
      "cell_type": "code",
      "source": [
        "help(gettysburg_address.split)"
      ],
      "execution_count": 0,
      "outputs": []
    },
    {
      "metadata": {
        "id": "teb4kqWlJwbV",
        "colab_type": "code",
        "colab": {}
      },
      "cell_type": "code",
      "source": [
        "# use split to create a list\n",
        "ga_list = gettysburg_address.split()\n",
        "new_ga_list = []\n",
        "for word in ga_list:\n",
        "# remove punctuation and non-letter characters\n",
        "    w = word.replace(\",\",\"\").replace(\".\",\"\")\n",
        "    if not \"--\" in w:\n",
        "        new_ga_list.append(w)\n",
        "print new_ga_list\n",
        "print \"Number of words: \",len(new_ga_list)"
      ],
      "execution_count": 0,
      "outputs": []
    },
    {
      "metadata": {
        "id": "gS8DvedlJwba",
        "colab_type": "text"
      },
      "cell_type": "markdown",
      "source": [
        "## Tuple"
      ]
    },
    {
      "metadata": {
        "id": "1hOOLIa5Jwbg",
        "colab_type": "text"
      },
      "cell_type": "markdown",
      "source": [
        "* A tuple is an ordered sequence of elements. \n",
        "* Defined by enclosing the elements in parentheses (())\n",
        "* Used for fixed data\n",
        "* <font color='blue'>Are immutable</font>.\n",
        "* Accessing elements of a tuple is faster than that of a list."
      ]
    },
    {
      "metadata": {
        "collapsed": true,
        "id": "meucI5JDJwbi",
        "colab_type": "text"
      },
      "cell_type": "markdown",
      "source": [
        "#### Initialization"
      ]
    },
    {
      "metadata": {
        "collapsed": true,
        "id": "NzSvk3leJwbj",
        "colab_type": "code",
        "colab": {}
      },
      "cell_type": "code",
      "source": [
        "empty_tuple = ()"
      ],
      "execution_count": 0,
      "outputs": []
    },
    {
      "metadata": {
        "id": "hqsuGdoPJwbn",
        "colab_type": "code",
        "colab": {}
      },
      "cell_type": "code",
      "source": [
        "some_primes = 2, 3, 5, 7, 11, 13    # Parentheses are optional\n",
        "solar_system = ('mercury', 'venus', 'earth', 'mars', 'jupiter', 'saturn', 'uranus', 'neptune')"
      ],
      "execution_count": 0,
      "outputs": []
    },
    {
      "metadata": {
        "id": "ME7WUWL0Jwbt",
        "colab_type": "code",
        "colab": {}
      },
      "cell_type": "code",
      "source": [
        "print 'Number of planets in the solar system is', len(solar_system)"
      ],
      "execution_count": 0,
      "outputs": []
    },
    {
      "metadata": {
        "id": "SRlJIjULJwbx",
        "colab_type": "text"
      },
      "cell_type": "markdown",
      "source": [
        "Tuples are simple objects. Two methods only:"
      ]
    },
    {
      "metadata": {
        "id": "jrJAQslEJwbz",
        "colab_type": "code",
        "colab": {}
      },
      "cell_type": "code",
      "source": [
        "print solar_system.count('earth')   # to count the number of occurence of a value\n",
        "print solar_system.index('mars')    # to find occurence of a value\n",
        "\n",
        "# Very little overhead -> faster than lists"
      ],
      "execution_count": 0,
      "outputs": []
    },
    {
      "metadata": {
        "id": "Z_7gZ741Jwb2",
        "colab_type": "text"
      },
      "cell_type": "markdown",
      "source": [
        "#### Other interest in tuples:\n",
        "    * protect the data, which is immutable (*)\n",
        "    * assigning multiple values\n",
        "    * unpacking data\n",
        "    * tuples can be used as keys on dictionaries"
      ]
    },
    {
      "metadata": {
        "id": "dFf26YeVJwb2",
        "colab_type": "code",
        "colab": {}
      },
      "cell_type": "code",
      "source": [
        "# (*)\n",
        "solar_system_list = ['mercury', 'venus', 'earth', 'mars', 'jupiter', 'saturn', 'uranus', 'neptune']\n",
        "\n",
        "a_mutable_tuple = (solar_system_list, 'pluto')\n",
        "a_mutable_tuple[0][2] = 'EARTH'\n",
        "a_mutable_tuple"
      ],
      "execution_count": 0,
      "outputs": []
    },
    {
      "metadata": {
        "id": "QLr5LMi7Jwb7",
        "colab_type": "code",
        "colab": {}
      },
      "cell_type": "code",
      "source": [
        "# Assigning multiple values\n",
        "(x, y, z) = ['a','b','c']\n",
        "x, y, z"
      ],
      "execution_count": 0,
      "outputs": []
    },
    {
      "metadata": {
        "id": "OQfpNdLoJwcE",
        "colab_type": "code",
        "colab": {}
      },
      "cell_type": "code",
      "source": [
        "# Unpacking data\n",
        "data  = (1,2,3)\n",
        "data"
      ],
      "execution_count": 0,
      "outputs": []
    },
    {
      "metadata": {
        "id": "MGcAZvvBJwcG",
        "colab_type": "text"
      },
      "cell_type": "markdown",
      "source": [
        "#### Access elements"
      ]
    },
    {
      "metadata": {
        "id": "zO7bc6BAJwcI",
        "colab_type": "code",
        "colab": {}
      },
      "cell_type": "code",
      "source": [
        "solar_system[4]\n",
        "solar_system[0:3]"
      ],
      "execution_count": 0,
      "outputs": []
    },
    {
      "metadata": {
        "id": "1SeY52uEJwcN",
        "colab_type": "code",
        "colab": {}
      },
      "cell_type": "code",
      "source": [
        "k = 0\n",
        "while k < len(solar_system):\n",
        "    print solar_system[k]\n",
        "    k += 1"
      ],
      "execution_count": 0,
      "outputs": []
    },
    {
      "metadata": {
        "id": "EfoPKkQ0JwcS",
        "colab_type": "text"
      },
      "cell_type": "markdown",
      "source": [
        "## Dictionary"
      ]
    },
    {
      "metadata": {
        "id": "PCBLYLcIJwcV",
        "colab_type": "text"
      },
      "cell_type": "markdown",
      "source": [
        "* A dictionary is an associative data structure of variable length.\n",
        "* Data is unordered, so elements are accessed by an associated key value.\n",
        "* <font color='blue'>Are mutable</font>."
      ]
    },
    {
      "metadata": {
        "id": "hEl3eSJbJwcW",
        "colab_type": "text"
      },
      "cell_type": "markdown",
      "source": [
        "#### Initialization"
      ]
    },
    {
      "metadata": {
        "collapsed": true,
        "id": "PQlOYg81JwcX",
        "colab_type": "code",
        "colab": {}
      },
      "cell_type": "code",
      "source": [
        "empty_dict = {}"
      ],
      "execution_count": 0,
      "outputs": []
    },
    {
      "metadata": {
        "id": "X5M3uqsCJwcg",
        "colab_type": "code",
        "colab": {}
      },
      "cell_type": "code",
      "source": [
        "daily_temps = {'mon': 70.2, 'tue': 67.2, 'wed': 71.8, 'thur': 73.2, 'fri': 75.6}\n",
        "\n",
        "daily_temps = dict([('mon', 70.2), ('tue', 67.2), ('wed', 71.8), ('thur', 73.2), ('fri', 75.6)])\n",
        "\n",
        "daily_temps = dict(mon=70.2, tue=67.2, wed=71.8, thur=73.2, fri=75.6)\n",
        "\n",
        "days = ['mon', 'tue', 'wed','thu','fri']\n",
        "temps = [70.2, 67.2, 71.8, 73.2, 75.6]\n",
        "daily_temps = dict(zip(days, temps))"
      ],
      "execution_count": 0,
      "outputs": []
    },
    {
      "metadata": {
        "id": "zHqcx3HAJwcl",
        "colab_type": "text"
      },
      "cell_type": "markdown",
      "source": [
        "<b> Note that you can use only immutable objects for the keys of a dictionary but you can use either immutable or mutable objects for the values of the dictionary. </b>"
      ]
    },
    {
      "metadata": {
        "id": "nV8scI9yJwcm",
        "colab_type": "text"
      },
      "cell_type": "markdown",
      "source": [
        "#### Access elements"
      ]
    },
    {
      "metadata": {
        "id": "7mI2unJsJwco",
        "colab_type": "code",
        "colab": {}
      },
      "cell_type": "code",
      "source": [
        "# Location at given key stores desired element in the dictionary. Square brackets are used for accessing elements:\n",
        "daily_temps['mon']"
      ],
      "execution_count": 0,
      "outputs": []
    },
    {
      "metadata": {
        "id": "GEX5i7yEJwcs",
        "colab_type": "code",
        "colab": {}
      },
      "cell_type": "code",
      "source": [
        "daily_temps.keys()"
      ],
      "execution_count": 0,
      "outputs": []
    },
    {
      "metadata": {
        "id": "HRx_21UMJwcv",
        "colab_type": "code",
        "colab": {}
      },
      "cell_type": "code",
      "source": [
        "daily_temps.values()"
      ],
      "execution_count": 0,
      "outputs": []
    },
    {
      "metadata": {
        "id": "DpfgddfMJwc3",
        "colab_type": "code",
        "colab": {}
      },
      "cell_type": "code",
      "source": [
        "daily_temps.items()"
      ],
      "execution_count": 0,
      "outputs": []
    },
    {
      "metadata": {
        "id": "GUc3oWaBJwc5",
        "colab_type": "code",
        "colab": {}
      },
      "cell_type": "code",
      "source": [
        "daily_temps.has_key('sun')"
      ],
      "execution_count": 0,
      "outputs": []
    },
    {
      "metadata": {
        "id": "E3o-_5MTJwc7",
        "colab_type": "text"
      },
      "cell_type": "markdown",
      "source": [
        "The specific location that a value is stored is determined by a particular method of converting key values into index values called <font color='red'>hashing</font>. Thus, key values must be hashable. A requirement for a data type to be hashable is that the type must be immutable."
      ]
    },
    {
      "metadata": {
        "id": "7SnUT8vHJwc9",
        "colab_type": "code",
        "colab": {}
      },
      "cell_type": "code",
      "source": [
        "temps = {('April',3,2017): 70.2, ('April',4,2017): 67.2, ('April',5,2017): 71.8}\n",
        "temps[('April',3,2017)]"
      ],
      "execution_count": 0,
      "outputs": []
    },
    {
      "metadata": {
        "id": "_M3GIJLTJwdB",
        "colab_type": "text"
      },
      "cell_type": "markdown",
      "source": [
        "Looping over a dictionary:"
      ]
    },
    {
      "metadata": {
        "collapsed": true,
        "id": "2I9qbMwUJwdD",
        "colab_type": "code",
        "colab": {}
      },
      "cell_type": "code",
      "source": [
        "# To loop all the keys from a dictionary \n",
        "for k in dict:\n",
        "    print k"
      ],
      "execution_count": 0,
      "outputs": []
    },
    {
      "metadata": {
        "id": "M5zteS7oJwdH",
        "colab_type": "code",
        "colab": {}
      },
      "cell_type": "code",
      "source": [
        "for day in daily_temps:\n",
        "    print day"
      ],
      "execution_count": 0,
      "outputs": []
    },
    {
      "metadata": {
        "id": "MqT90sYSJwdQ",
        "colab_type": "code",
        "colab": {}
      },
      "cell_type": "code",
      "source": [
        "for day in daily_temps:\n",
        "    if day.startswith('w'):\n",
        "        print daily_temps[day]"
      ],
      "execution_count": 0,
      "outputs": []
    },
    {
      "metadata": {
        "collapsed": true,
        "id": "JtI6YcAhJwdT",
        "colab_type": "code",
        "colab": {}
      },
      "cell_type": "code",
      "source": [
        "# To loop every key and value from a dictionary\n",
        "for k, v in dict.items():\n",
        "    print k, v"
      ],
      "execution_count": 0,
      "outputs": []
    },
    {
      "metadata": {
        "id": "_YcK_hRiJwdW",
        "colab_type": "code",
        "colab": {}
      },
      "cell_type": "code",
      "source": [
        "for day, temp in daily_temps.items():\n",
        "    print day, temp"
      ],
      "execution_count": 0,
      "outputs": []
    },
    {
      "metadata": {
        "id": "_ja7jNjTJwdX",
        "colab_type": "code",
        "colab": {}
      },
      "cell_type": "code",
      "source": [
        "# What will the following program produce:\n",
        "colors = ['red','orange','yellow','green','blue','indigo','violet']\n",
        "d = {}\n",
        "for color in colors:\n",
        "    key = len(color)\n",
        "    if key not in d:\n",
        "        d[key] = []\n",
        "    d[key].append(color)\n",
        "d"
      ],
      "execution_count": 0,
      "outputs": []
    },
    {
      "metadata": {
        "id": "xCF2S1kTJwdc",
        "colab_type": "text"
      },
      "cell_type": "markdown",
      "source": [
        "#### Ordered Dictionary"
      ]
    },
    {
      "metadata": {
        "id": "gGFfkBKFJwdd",
        "colab_type": "code",
        "colab": {}
      },
      "cell_type": "code",
      "source": [
        "from collections import OrderedDict \n",
        "od = OrderedDict()\n",
        "od['a'] = 'A'\n",
        "od['b'] = 'B'\n",
        "od['c'] = 'C'\n",
        "od['d'] = 'D'\n",
        "\n",
        "for key, value in od.items(): \n",
        "    print(key, value) "
      ],
      "execution_count": 0,
      "outputs": []
    },
    {
      "metadata": {
        "id": "6q_6witfJwdo",
        "colab_type": "text"
      },
      "cell_type": "markdown",
      "source": [
        "#### Exercise:\n",
        "\n",
        "Given the scrabble scores dictionary, write a program to compute the value of any word. For word='Python' the score is 14."
      ]
    },
    {
      "metadata": {
        "collapsed": true,
        "id": "R3xmp4IUJwdp",
        "colab_type": "code",
        "colab": {}
      },
      "cell_type": "code",
      "source": [
        "scores = {\"a\": 1, \"c\": 3, \"b\": 3, \"e\": 1, \"d\": 2, \"g\": 2,\n",
        "         \"f\": 4, \"i\": 1, \"h\": 4, \"k\": 5, \"j\": 8, \"m\": 3,\n",
        "         \"l\": 1, \"o\": 1, \"n\": 1, \"q\": 10, \"p\": 3, \"s\": 1,\n",
        "         \"r\": 1, \"u\": 1, \"t\": 1, \"w\": 4, \"v\": 4, \"y\": 4,\n",
        "         \"x\": 8, \"z\": 10}\n",
        "word = 'Python'"
      ],
      "execution_count": 0,
      "outputs": []
    },
    {
      "metadata": {
        "id": "F_-ElQ5aJwds",
        "colab_type": "code",
        "colab": {},
        "outputId": "a259972b-f12e-4558-e159-121ed31b3784"
      },
      "cell_type": "code",
      "source": [
        "# Write your program here\n",
        "score = 0\n",
        "for c in word:\n",
        "    score += scores[c.lower()]\n",
        "score"
      ],
      "execution_count": 0,
      "outputs": [
        {
          "output_type": "execute_result",
          "data": {
            "text/plain": [
              "14"
            ]
          },
          "metadata": {
            "tags": []
          },
          "execution_count": 53
        }
      ]
    },
    {
      "metadata": {
        "collapsed": true,
        "id": "c4OSy8CtJwd2",
        "colab_type": "text"
      },
      "cell_type": "markdown",
      "source": [
        "## Set"
      ]
    },
    {
      "metadata": {
        "id": "rM-QKoP4Jwd6",
        "colab_type": "text"
      },
      "cell_type": "markdown",
      "source": [
        "* A sequence used to store non-duplicate data.\n",
        "* Data is unordered, accesed via indexing.\n",
        "* <font color='blue'>mutable</font>."
      ]
    },
    {
      "metadata": {
        "id": "XIVfDW5IJwd6",
        "colab_type": "text"
      },
      "cell_type": "markdown",
      "source": [
        "#### Initialization"
      ]
    },
    {
      "metadata": {
        "collapsed": true,
        "id": "fTb3qqMxJwd8",
        "colab_type": "code",
        "colab": {}
      },
      "cell_type": "code",
      "source": [
        "empty_set = ()\n",
        "empty_set_too = {}\n",
        "fibo = {1,1,2,3,5}\n",
        "some_primes = [1,1,2,3,5]\n",
        "primes = set(some_primes)"
      ],
      "execution_count": 0,
      "outputs": []
    },
    {
      "metadata": {
        "id": "6Q3lLVo4Jwd-",
        "colab_type": "code",
        "colab": {}
      },
      "cell_type": "code",
      "source": [
        "fibo\n",
        "primes"
      ],
      "execution_count": 0,
      "outputs": []
    },
    {
      "metadata": {
        "id": "d68Ou94EJweC",
        "colab_type": "text"
      },
      "cell_type": "markdown",
      "source": [
        "#### Mathematical set operations"
      ]
    },
    {
      "metadata": {
        "collapsed": true,
        "id": "YEGjgWRwJweD",
        "colab_type": "code",
        "colab": {}
      },
      "cell_type": "code",
      "source": [
        "a = set([1, 2, 3, 4])\n",
        "b = set([3, 4, 5, 6])"
      ],
      "execution_count": 0,
      "outputs": []
    },
    {
      "metadata": {
        "id": "tH6Gm6I_JweK",
        "colab_type": "code",
        "colab": {}
      },
      "cell_type": "code",
      "source": [
        "a | b # Union or a.union(b)"
      ],
      "execution_count": 0,
      "outputs": []
    },
    {
      "metadata": {
        "id": "MqoZ9tO3JweM",
        "colab_type": "code",
        "colab": {}
      },
      "cell_type": "code",
      "source": [
        "a & b # Intersection  or a.intersection(b)"
      ],
      "execution_count": 0,
      "outputs": []
    },
    {
      "metadata": {
        "id": "8lCc47DuJweS",
        "colab_type": "code",
        "colab": {}
      },
      "cell_type": "code",
      "source": [
        "a < b # Subset or a.issubset(b)"
      ],
      "execution_count": 0,
      "outputs": []
    },
    {
      "metadata": {
        "id": "pUVoMiFdJweX",
        "colab_type": "code",
        "colab": {}
      },
      "cell_type": "code",
      "source": [
        "a - b # Difference or a.difference(b)"
      ],
      "execution_count": 0,
      "outputs": []
    },
    {
      "metadata": {
        "id": "wJ6Na-xqJwea",
        "colab_type": "text"
      },
      "cell_type": "markdown",
      "source": [
        "#### Exercise:\n",
        "\n",
        "Use set() to compute the number of unique words in the \"Gettysburg address\". \n",
        "\n",
        "Extra credit: How many of each are there? (Hint: you need a dictionary)"
      ]
    },
    {
      "metadata": {
        "id": "qXBzh5UXJwea",
        "colab_type": "code",
        "colab": {}
      },
      "cell_type": "code",
      "source": [
        "gettysburg_address\n",
        "new_ga_list # Result from previous exercise\n",
        "unique_words = set(new_ga_list)\n",
        "print \"Number of unique words: \",len(unique_words)\n",
        "word_counts = {}\n",
        "for w in unique_words:\n",
        "    word_counts[w] = new_ga_list.count(w)\n",
        "word_counts"
      ],
      "execution_count": 0,
      "outputs": []
    },
    {
      "metadata": {
        "collapsed": true,
        "id": "lqs3oHVTJwee",
        "colab_type": "text"
      },
      "cell_type": "markdown",
      "source": [
        "                                                                                           "
      ]
    },
    {
      "metadata": {
        "id": "jj0dEB7wJwej",
        "colab_type": "text"
      },
      "cell_type": "markdown",
      "source": [
        "## Counter"
      ]
    },
    {
      "metadata": {
        "id": "udFZ6p47Jweq",
        "colab_type": "text"
      },
      "cell_type": "markdown",
      "source": [
        "- Counter is an unordered collection where elements are stored as dictionary keys and their count as dictionary value\n",
        "- Counter elements count can integers"
      ]
    },
    {
      "metadata": {
        "id": "sWsDCgePJwes",
        "colab_type": "text"
      },
      "cell_type": "markdown",
      "source": [
        "#### Initialization"
      ]
    },
    {
      "metadata": {
        "id": "-jk8iupMJwet",
        "colab_type": "code",
        "colab": {}
      },
      "cell_type": "code",
      "source": [
        "from collections import Counter\n",
        "\n",
        "# empty Counter\n",
        "empty_counter = Counter()\n",
        "print(empty_counter) \n",
        "\n",
        "# Counter with initial values\n",
        "my_counter = Counter(['a', 'a', 'b'])\n",
        "print(my_counter)  \n",
        "\n",
        "my_counter = Counter(a=2, b=3, c=1)\n",
        "print(my_counter)  "
      ],
      "execution_count": 0,
      "outputs": []
    },
    {
      "metadata": {
        "id": "F2Kxel56Jweu",
        "colab_type": "text"
      },
      "cell_type": "markdown",
      "source": [
        "#### Other data types as arguments of Counter"
      ]
    },
    {
      "metadata": {
        "id": "vQdh6a3AJwew",
        "colab_type": "code",
        "colab": {}
      },
      "cell_type": "code",
      "source": [
        "# Iterable as argument for Counter\n",
        "my_counter = Counter('abcaaddcba')\n",
        "print(my_counter) "
      ],
      "execution_count": 0,
      "outputs": []
    },
    {
      "metadata": {
        "id": "5sRmqxCiJwe7",
        "colab_type": "code",
        "colab": {}
      },
      "cell_type": "code",
      "source": [
        "# List as argument to Counter\n",
        "words_list = ['Cat', 'Dog', 'Horse', 'Dog']\n",
        "my_counter = Counter(words_list)\n",
        "print(my_counter)"
      ],
      "execution_count": 0,
      "outputs": []
    },
    {
      "metadata": {
        "id": "2argWt26Jwe9",
        "colab_type": "code",
        "colab": {}
      },
      "cell_type": "code",
      "source": [
        "# Dictionary as argument to Counter\n",
        "word_count_dict = {'Dog': 2, 'Cat': 1, 'Horse': 1}\n",
        "my_counter = Counter(word_count_dict)\n",
        "print(my_counter) "
      ],
      "execution_count": 0,
      "outputs": []
    },
    {
      "metadata": {
        "id": "yG46e9wSJwe_",
        "colab_type": "code",
        "colab": {}
      },
      "cell_type": "code",
      "source": [
        "# Counter works with non-numbers too\n",
        "special_counter = Counter(name='Pankaj', age=20)\n",
        "print(special_counter)  "
      ],
      "execution_count": 0,
      "outputs": []
    },
    {
      "metadata": {
        "id": "gX8W2uP5JwfB",
        "colab_type": "text"
      },
      "cell_type": "markdown",
      "source": [
        "#### Getting Count of Elements"
      ]
    },
    {
      "metadata": {
        "id": "BE9opqYyJwfC",
        "colab_type": "code",
        "colab": {}
      },
      "cell_type": "code",
      "source": [
        "my_counter = Counter({'Dog': 2, 'Cat': 1, 'Horse': 1})\n",
        "countDog = my_counter['Dog']\n",
        "print(countDog)\n",
        "\n",
        "# getting count for non existing key, don't cause KeyError\n",
        "print(my_counter['Unicorn'])"
      ],
      "execution_count": 0,
      "outputs": []
    },
    {
      "metadata": {
        "id": "Wbq3o1JBJwfP",
        "colab_type": "text"
      },
      "cell_type": "markdown",
      "source": [
        "#### Setting Count of Elements"
      ]
    },
    {
      "metadata": {
        "id": "s-3k9wMDJwfU",
        "colab_type": "code",
        "colab": {}
      },
      "cell_type": "code",
      "source": [
        "my_counter = Counter({'Dog': 2, 'Cat': 1, 'Horse': 1})\n",
        "# setting count\n",
        "my_counter['Horse'] = 0\n",
        "print(my_counter) \n",
        "\n",
        "# setting count for non-existing key, adds to Counter\n",
        "my_counter['Unicorn'] = 1\n",
        "print(\"Add to a counter: \", my_counter)  "
      ],
      "execution_count": 0,
      "outputs": []
    },
    {
      "metadata": {
        "id": "h4t7mC3MJwfZ",
        "colab_type": "text"
      },
      "cell_type": "markdown",
      "source": [
        "#### Deleting an element from Counter"
      ]
    },
    {
      "metadata": {
        "id": "YCCBDB8VJwfd",
        "colab_type": "code",
        "colab": {}
      },
      "cell_type": "code",
      "source": [
        "del my_counter['Unicorn']\n",
        "print(\"Element deleted: \", my_counter)"
      ],
      "execution_count": 0,
      "outputs": []
    },
    {
      "metadata": {
        "id": "wdb1mI_YJwff",
        "colab_type": "text"
      },
      "cell_type": "markdown",
      "source": [
        "#### Arithmetic Operations"
      ]
    },
    {
      "metadata": {
        "id": "xAlfiNE9Jwfg",
        "colab_type": "code",
        "colab": {}
      },
      "cell_type": "code",
      "source": [
        "c1 = Counter(a=2, b=0, c=-1)\n",
        "c2 = Counter(a=1, b=-1, c=2)\n",
        "\n",
        "c = c1 + c2  # return items having positive count only\n",
        "print(\"Add two counters: \", c)  \n",
        "\n",
        "c = c1 - c2  # keeps only positive count elements\n",
        "print(\"Difference of two counters: \", c)  \n",
        "\n",
        "c = c1 & c2  # intersection min(c1[x], c2[x])\n",
        "print(\"Intersection of two counters: \", c) \n",
        "\n",
        "c = c1 | c2  # union max(c1[x], c2[x])\n",
        "print(\"Union of two counters: \", c)  "
      ],
      "execution_count": 0,
      "outputs": []
    },
    {
      "metadata": {
        "id": "qwpHvLBKJwfr",
        "colab_type": "text"
      },
      "cell_type": "markdown",
      "source": [
        "#### Other Operators"
      ]
    },
    {
      "metadata": {
        "id": "48mx99v8Jwfu",
        "colab_type": "code",
        "colab": {}
      },
      "cell_type": "code",
      "source": [
        "my_counter = Counter({'Dog': 2, 'Cat': -1, 'Horse': 0})\n",
        "\n",
        "# elements() - Returns the list of elements in the counter.\n",
        "#            - Only elements with positive counts are returned.\n",
        "elements = my_counter.elements()\n",
        "for value in elements:\n",
        "    print(value)"
      ],
      "execution_count": 0,
      "outputs": []
    },
    {
      "metadata": {
        "id": "DesvoO7FJwfw",
        "colab_type": "code",
        "colab": {}
      },
      "cell_type": "code",
      "source": [
        "# most_common()\n",
        "most_common_element = my_counter.most_common(1)\n",
        "print(\"Most common element: \", most_common_element)\n",
        "\n",
        "least_common_element = my_counter.most_common()[:-2:-1]\n",
        "print(\"Least common element: \", least_common_element) "
      ],
      "execution_count": 0,
      "outputs": []
    },
    {
      "metadata": {
        "id": "erpwiXl-Jwfx",
        "colab_type": "code",
        "colab": {}
      },
      "cell_type": "code",
      "source": [
        "my_counter = Counter('ababab')\n",
        "print(my_counter)  \n",
        "c = Counter('abc')\n",
        "print(c)  \n",
        "\n",
        "# subtract\n",
        "my_counter.subtract(c)\n",
        "print(\"Subtract the counter: \", my_counter)  \n",
        "\n",
        "# update\n",
        "my_counter.update(c)\n",
        "print(\"Update the counter: \", my_counter)"
      ],
      "execution_count": 0,
      "outputs": []
    },
    {
      "metadata": {
        "id": "Q3Kid1G0Jwf0",
        "colab_type": "code",
        "colab": {}
      },
      "cell_type": "code",
      "source": [
        "my_counter = Counter({'a': 3, 'b': 3, 'c': 0})\n",
        "# miscellaneous examples\n",
        "print(\"Sum of values: \", sum(my_counter.values()))\n",
        "\n",
        "print(\"From counter to list: \", list(my_counter)) \n",
        "print(\"From counter to set:  \", set(my_counter))  \n",
        "print(\"From counter to dict: \", dict(my_counter))  \n",
        "print(\"List of items:        \", my_counter.items())  \n",
        "\n",
        "# remove 0 or negative count elements\n",
        "my_counter = Counter(a=2, b=3, c=-1, d=0)\n",
        "my_counter = +my_counter\n",
        "print(\"No positive count removed: \", my_counter)  \n",
        "\n",
        "# clear all elements\n",
        "my_counter.clear()\n",
        "print(my_counter)  "
      ],
      "execution_count": 0,
      "outputs": []
    },
    {
      "metadata": {
        "id": "P2SF2gvqJwf4",
        "colab_type": "text"
      },
      "cell_type": "markdown",
      "source": [
        "#### Exercise:\n",
        "\n",
        "Use Counter to compute the number of unique words in the \"Gettysburg address\" and to list the number of times each word occurs. "
      ]
    },
    {
      "metadata": {
        "id": "uzn3w2gtJwf6",
        "colab_type": "text"
      },
      "cell_type": "markdown",
      "source": [
        "## Quiz \n",
        "https://www.programiz.com/python-programming/quiz/native-data-types/take/1"
      ]
    },
    {
      "metadata": {
        "id": "hN6BGobTJwf7",
        "colab_type": "code",
        "colab": {}
      },
      "cell_type": "code",
      "source": [
        ""
      ],
      "execution_count": 0,
      "outputs": []
    }
  ]
}