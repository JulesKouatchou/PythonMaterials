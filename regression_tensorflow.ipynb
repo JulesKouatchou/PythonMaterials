{
  "nbformat": 4,
  "nbformat_minor": 0,
  "metadata": {
    "colab": {
      "name": "regression_tensorflow.ipynb",
      "version": "0.3.2",
      "provenance": [],
      "collapsed_sections": [],
      "toc_visible": true,
      "include_colab_link": true
    },
    "kernelspec": {
      "display_name": "Python 3",
      "language": "python",
      "name": "python3"
    }
  },
  "cells": [
    {
      "cell_type": "markdown",
      "metadata": {
        "id": "view-in-github",
        "colab_type": "text"
      },
      "source": [
        "<a href=\"https://colab.research.google.com/github/JulesKouatchou/PythonMaterials/blob/master/regression_tensorflow.ipynb\" target=\"_parent\"><img src=\"https://colab.research.google.com/assets/colab-badge.svg\" alt=\"Open In Colab\"/></a>"
      ]
    },
    {
      "metadata": {
        "id": "NY9OGzVmMhOc",
        "colab_type": "code",
        "colab": {}
      },
      "cell_type": "code",
      "source": [
        "from __future__ import absolute_import, division, print_function\n",
        "from IPython.core.interactiveshell import InteractiveShell\n",
        "InteractiveShell.ast_node_interactivity = \"all\""
      ],
      "execution_count": 0,
      "outputs": []
    },
    {
      "metadata": {
        "id": "VIcbbdbsMhOq",
        "colab_type": "text"
      },
      "cell_type": "markdown",
      "source": [
        "![NASA](http://www.nasa.gov/sites/all/themes/custom/nasatwo/images/nasa-logo.svg)\n",
        "\n",
        "\n",
        "<center><h1><font size=\"+3\" color=\"red\">ASTG Python Camp (APyC)</font></h1></center>\n",
        "---------\n",
        "\n",
        "<center>\n",
        "<h1>Advance Users</h1>\n",
        "</center>"
      ]
    },
    {
      "metadata": {
        "id": "XcdTp7BXMhOs",
        "colab_type": "text"
      },
      "cell_type": "markdown",
      "source": [
        "# Machine Learning Application With Tensorflow"
      ]
    },
    {
      "metadata": {
        "id": "sxfY0-JRMhOv",
        "colab_type": "text"
      },
      "cell_type": "markdown",
      "source": [
        "### Load the modules"
      ]
    },
    {
      "metadata": {
        "id": "GAxDwV3qMhOy",
        "colab_type": "code",
        "outputId": "44aa2ee8-6196-4966-d72d-2240edf79aaf",
        "colab": {
          "base_uri": "https://localhost:8080/",
          "height": 34
        }
      },
      "cell_type": "code",
      "source": [
        "import sys\n",
        "import numpy as np\n",
        "import matplotlib.pyplot as plt\n",
        "import pandas as pd\n",
        "import seaborn as sns\n",
        "import tensorflow as tf\n",
        "from tensorflow import keras\n",
        "from tensorflow.keras import layers\n",
        "\n",
        "print(tf.__version__)"
      ],
      "execution_count": 0,
      "outputs": [
        {
          "output_type": "stream",
          "text": [
            "1.13.1\n"
          ],
          "name": "stdout"
        }
      ]
    },
    {
      "metadata": {
        "id": "5uu_66dkMhO5",
        "colab_type": "text"
      },
      "cell_type": "markdown",
      "source": [
        "### Main Steps of a ML Program\n",
        "\n",
        "<OL>\n",
        "<LI> Define a question\n",
        "<LI> Collect data\n",
        "<LI> Visualize data (if possible)\n",
        "<LI> Train algorithm\n",
        "<LI> Test the Algorithm\n",
        "<LI> Collect feedback\n",
        "<LI> Refine the algorithm\n",
        "<LI> Loop 4-7 until the results are satisfying\n",
        "<LI> Use the model to make a prediction\n",
        "</OL>"
      ]
    },
    {
      "metadata": {
        "id": "NLtyxoQ1MhO8",
        "colab_type": "text"
      },
      "cell_type": "markdown",
      "source": [
        "## Problem Statement"
      ]
    },
    {
      "metadata": {
        "id": "jNt92brTMhO9",
        "colab_type": "text"
      },
      "cell_type": "markdown",
      "source": [
        "We consider the function: <br>\n",
        "$$\n",
        "f(x,y) = (1-(x^2 + y^3))e^{-\\frac{1}{2}(x^2 + y^2)}\n",
        "$$\n",
        "<br>\n",
        "defined in the domain $D=[-3,3] \\times [-3,3]$.\n",
        "<OL>\n",
        "<LI> We randomnly select $n$ points in the domain $D$ and compute the function on those points to create a dataset containing the pairs points/values.\n",
        "<LI> We use the dataset for training a ML algorithm.\n",
        "<LI> We generate a uniform set of points in $D$ to test the algorithm.\n",
        "</OL>"
      ]
    },
    {
      "metadata": {
        "id": "IeixhA_DMhPA",
        "colab_type": "text"
      },
      "cell_type": "markdown",
      "source": [
        "## Generating the data"
      ]
    },
    {
      "metadata": {
        "id": "O7Ss3HJ3MhPC",
        "colab_type": "text"
      },
      "cell_type": "markdown",
      "source": [
        "#### Define the function"
      ]
    },
    {
      "metadata": {
        "id": "QJwzzd9kMhPF",
        "colab_type": "code",
        "colab": {}
      },
      "cell_type": "code",
      "source": [
        "def ff(x,y):\n",
        "    return (1-(x**2+y**3))*np.exp(-(x**2+y**2)/2)"
      ],
      "execution_count": 0,
      "outputs": []
    },
    {
      "metadata": {
        "id": "ngZFPAmQMhPL",
        "colab_type": "text"
      },
      "cell_type": "markdown",
      "source": [
        "#### Create the data"
      ]
    },
    {
      "metadata": {
        "id": "VbzZe9kYMhPN",
        "colab_type": "code",
        "colab": {}
      },
      "cell_type": "code",
      "source": [
        "numDims = 2\n",
        "nx = 30\n",
        "ny = 30\n",
        "numPoints = nx * ny\n",
        "\n",
        "yt = np.zeros(numPoints)  # targets for training\n",
        "yv = np.zeros(numPoints)  # targets for validation\n",
        "\n",
        "xt = np.zeros((numPoints, numDims))  # grid points for training\n",
        "xv = np.zeros((numPoints, numDims))  # grid points for validation\n",
        "\n",
        "# Dataset for training\n",
        "x = np.random.uniform(-3.0, 3.0, nx)\n",
        "y = np.random.uniform(-3.0, 3.0, ny)\n",
        "\n",
        "k = 0\n",
        "for i in range(nx):\n",
        "    for j in range(ny):\n",
        "        xt[k,0] = x[i]\n",
        "        xt[k,1] = y[j]\n",
        "        yt[k] = ff(x[i],y[j])\n",
        "        k += 1\n",
        "\n",
        "# Dateset for validation\n",
        "x = np.linspace(-3.0, 3.0, nx)\n",
        "y = np.linspace(-3.0, 3.0, ny)\n",
        "\n",
        "k = 0\n",
        "for i in range(nx):\n",
        "    for j in range(ny):\n",
        "        xv[k,0] = x[i]\n",
        "        xv[k,1] = y[j]\n",
        "        yv[k] = ff(x[i],y[j])\n",
        "        k += 1"
      ],
      "execution_count": 0,
      "outputs": []
    },
    {
      "metadata": {
        "id": "Ncrql42lMhPX",
        "colab_type": "text"
      },
      "cell_type": "markdown",
      "source": [
        "#### Save dataset in csv file"
      ]
    },
    {
      "metadata": {
        "id": "yMygZ1DnMhPY",
        "colab_type": "code",
        "colab": {}
      },
      "cell_type": "code",
      "source": [
        "import csv\n",
        "\n",
        "trainInputsFile = 'train_dataFile.csv'  # csv file for x values and y values\n",
        "with open(trainInputsFile, 'w') as fid:\n",
        "    csv_fid = csv.writer(fid, delimiter=',')\n",
        "    csv_fid.writerow(['x'+str(i) for i in range(numDims)]+['TargetValues'])\n",
        "    for j in range(numPoints):\n",
        "        csv_fid.writerow([xt[j,i] for i in range(numDims)] +[ yt[j]])\n",
        "\n",
        "validInputsFile = 'valid_dataFile.csv'  # csv file for values to be predicted\n",
        "with open(validInputsFile, 'w') as fid:\n",
        "     csv_fid = csv.writer(fid, delimiter=',')\n",
        "     csv_fid.writerow(['x'+str(i) for i in range(numDims)] + ['TargetValues'])\n",
        "     for j in range(numPoints):\n",
        "         csv_fid.writerow([xv[j,i] for i in range(numDims)] + [yv[j]])"
      ],
      "execution_count": 0,
      "outputs": []
    },
    {
      "metadata": {
        "id": "jweYa5LiMhPg",
        "colab_type": "text"
      },
      "cell_type": "markdown",
      "source": [
        "## Data Gathering and Basic Analyses"
      ]
    },
    {
      "metadata": {
        "id": "zUV2Vxg-MhPh",
        "colab_type": "text"
      },
      "cell_type": "markdown",
      "source": [
        "#### Get the data to be used for training"
      ]
    },
    {
      "metadata": {
        "id": "_8nE0CpOMhPk",
        "colab_type": "code",
        "outputId": "cd2dad5d-0201-4450-a1a5-f4f45c1d0b70",
        "colab": {
          "base_uri": "https://localhost:8080/",
          "height": 121
        }
      },
      "cell_type": "code",
      "source": [
        "train_data  = pd.read_csv('train_dataFile.csv')\n",
        "print(train_data.head(5))"
      ],
      "execution_count": 0,
      "outputs": [
        {
          "output_type": "stream",
          "text": [
            "         x0        x1  TargetValues\n",
            "0  2.422747 -1.296915     -0.061610\n",
            "1  2.422747  1.587623     -0.133682\n",
            "2  2.422747 -2.647292      0.021867\n",
            "3  2.422747  0.787108     -0.208847\n",
            "4  2.422747 -2.942616      0.014428\n"
          ],
          "name": "stdout"
        }
      ]
    },
    {
      "metadata": {
        "id": "C6d6GmVAMhPr",
        "colab_type": "text"
      },
      "cell_type": "markdown",
      "source": [
        "#### Get the data to be used for validation"
      ]
    },
    {
      "metadata": {
        "id": "B_zsQm1uMhPt",
        "colab_type": "code",
        "colab": {}
      },
      "cell_type": "code",
      "source": [
        "valid_data  = pd.read_csv('valid_dataFile.csv')\n",
        "print(valid_data.head(5))"
      ],
      "execution_count": 0,
      "outputs": []
    },
    {
      "metadata": {
        "id": "da77HpuGMhPw",
        "colab_type": "text"
      },
      "cell_type": "markdown",
      "source": [
        "#### Plot the data to be trained"
      ]
    },
    {
      "metadata": {
        "id": "a6CfV75HMhPz",
        "colab_type": "code",
        "colab": {}
      },
      "cell_type": "code",
      "source": [
        "from mpl_toolkits.mplot3d import Axes3D\n",
        "\n",
        "threedee = plt.figure().gca(projection='3d')\n",
        "threedee.scatter(train_data['x0'], train_data['x1'], train_data['TargetValues'])\n",
        "threedee.set_xlabel('x')\n",
        "threedee.set_ylabel('y')\n",
        "threedee.set_zlabel('f(x,y)')\n",
        "plt.show()"
      ],
      "execution_count": 0,
      "outputs": []
    },
    {
      "metadata": {
        "id": "4smlCaOJMhP4",
        "colab_type": "text"
      },
      "cell_type": "markdown",
      "source": [
        "#### Display the joint distribution of the columns from the training set"
      ]
    },
    {
      "metadata": {
        "id": "M6Y8lElrMhP5",
        "colab_type": "code",
        "colab": {}
      },
      "cell_type": "code",
      "source": [
        "sns.pairplot(train_data.drop(columns=[\"TargetValues\"]))"
      ],
      "execution_count": 0,
      "outputs": []
    },
    {
      "metadata": {
        "id": "fMKHTrtjMhP_",
        "colab_type": "text"
      },
      "cell_type": "markdown",
      "source": [
        "#### Check the overall statistics"
      ]
    },
    {
      "metadata": {
        "id": "WxSaKTfRMhQB",
        "colab_type": "code",
        "colab": {}
      },
      "cell_type": "code",
      "source": [
        "train_stats = train_data.describe()\n",
        "train_stats.pop(\"TargetValues\")\n",
        "train_stats = train_stats.transpose()\n",
        "print(train_stats)"
      ],
      "execution_count": 0,
      "outputs": []
    },
    {
      "metadata": {
        "id": "nQat4xkXMhQF",
        "colab_type": "text"
      },
      "cell_type": "markdown",
      "source": [
        "#### Split features from labels"
      ]
    },
    {
      "metadata": {
        "id": "xXIVCOu8MhQF",
        "colab_type": "code",
        "colab": {}
      },
      "cell_type": "code",
      "source": [
        "# Separate the target value, or \"label\", from the features.\n",
        "# This label is the value that you will train the model to predict.\n",
        "train_labels = train_data.pop('TargetValues')\n",
        "valid_labels = valid_data.pop('TargetValues')"
      ],
      "execution_count": 0,
      "outputs": []
    },
    {
      "metadata": {
        "id": "P6uAx1BtMhQN",
        "colab_type": "text"
      },
      "cell_type": "markdown",
      "source": [
        "## Normailized the Data"
      ]
    },
    {
      "metadata": {
        "id": "hUUThvaUMhQP",
        "colab_type": "code",
        "colab": {}
      },
      "cell_type": "code",
      "source": [
        "# It is good practice to normalize features that use different scales and ranges. \n",
        "# Although the model might converge without feature normalization, \n",
        "# it makes training more difficult, and it makes the resulting model dependent on \n",
        "# the choice of units used in the input.\n",
        "\n",
        "def norm(x):\n",
        "  return (x - train_stats['mean']) / train_stats['std']\n",
        "\n",
        "# This normalized data is what we will use to train the model.\n",
        "normed_train_data = norm(train_data)\n",
        "normed_valid_data = norm(valid_data)"
      ],
      "execution_count": 0,
      "outputs": []
    },
    {
      "metadata": {
        "id": "JhxU061HMhQT",
        "colab_type": "text"
      },
      "cell_type": "markdown",
      "source": [
        "## Build the Model"
      ]
    },
    {
      "metadata": {
        "id": "VZF0JNY-MhQU",
        "colab_type": "text"
      },
      "cell_type": "markdown",
      "source": [
        "#### Instantiate a sequentiel model ising keras"
      ]
    },
    {
      "metadata": {
        "id": "jQybOoZ_MhQV",
        "colab_type": "code",
        "colab": {}
      },
      "cell_type": "code",
      "source": [
        "model = keras.Sequential([\n",
        "        layers.Dense(64, activation=tf.nn.relu, input_shape=[len(train_data.keys())]),\n",
        "        layers.Dense(64, activation=tf.nn.relu),\n",
        "        layers.Dense(1) ])"
      ],
      "execution_count": 0,
      "outputs": []
    },
    {
      "metadata": {
        "id": "vb6ULvP2MhQY",
        "colab_type": "text"
      },
      "cell_type": "markdown",
      "source": [
        "#### Define the optimizer"
      ]
    },
    {
      "metadata": {
        "id": "dP8N4FJuMhQg",
        "colab_type": "code",
        "colab": {}
      },
      "cell_type": "code",
      "source": [
        "optimizer = tf.keras.optimizers.RMSprop(0.001)"
      ],
      "execution_count": 0,
      "outputs": []
    },
    {
      "metadata": {
        "id": "SGiiWl22MhQk",
        "colab_type": "text"
      },
      "cell_type": "markdown",
      "source": [
        "#### Compile the model"
      ]
    },
    {
      "metadata": {
        "id": "9i2LE2fKMhQl",
        "colab_type": "code",
        "colab": {}
      },
      "cell_type": "code",
      "source": [
        "# Required to provide a loss function and an optimizer\n",
        "model.compile(loss = 'mse',\n",
        "              optimizer = optimizer,\n",
        "              metrics = ['mae', 'mse'])"
      ],
      "execution_count": 0,
      "outputs": []
    },
    {
      "metadata": {
        "id": "we34ww1lMhQs",
        "colab_type": "text"
      },
      "cell_type": "markdown",
      "source": [
        "#### Inspect the model"
      ]
    },
    {
      "metadata": {
        "id": "J-X5jaMVMhQt",
        "colab_type": "code",
        "colab": {}
      },
      "cell_type": "code",
      "source": [
        "model.summary()"
      ],
      "execution_count": 0,
      "outputs": []
    },
    {
      "metadata": {
        "id": "2mb_Y-9bMhQw",
        "colab_type": "text"
      },
      "cell_type": "markdown",
      "source": [
        "#### Try the model"
      ]
    },
    {
      "metadata": {
        "id": "z3KB5Aq5MhQz",
        "colab_type": "code",
        "colab": {}
      },
      "cell_type": "code",
      "source": [
        "# 10 samples from the training data and call model.predict\n",
        "example_batch = normed_train_data[:10]\n",
        "example_result = model.predict(example_batch)\n",
        "print(example_result)"
      ],
      "execution_count": 0,
      "outputs": []
    },
    {
      "metadata": {
        "id": "mLJS42YWMhQ7",
        "colab_type": "text"
      },
      "cell_type": "markdown",
      "source": [
        "## Train the Model"
      ]
    },
    {
      "metadata": {
        "id": "K3I-Kp_0MhQ9",
        "colab_type": "code",
        "colab": {}
      },
      "cell_type": "code",
      "source": [
        "# Train the model for 1000 epochs, and record the training and \n",
        "# validation accuracy in the history object\n",
        "\n",
        "# Display training progress by printing a single dot for each completed epoch\n",
        "class PrintDot(keras.callbacks.Callback):\n",
        "  def on_epoch_end(self, epoch, logs):\n",
        "    if epoch % 100 == 0: print('')\n",
        "    print('.', end='')\n",
        "\n",
        "# How many times we go through the entire dataset\n",
        "EPOCHS = 1000\n",
        "\n",
        "history = model.fit( normed_train_data, train_labels,    \n",
        "                 epochs=EPOCHS, verbose=0, callbacks=[PrintDot()])\n",
        "#epochs=EPOCHS, validation_split = 0.2, verbose=0, callbacks=[PrintDot()])"
      ],
      "execution_count": 0,
      "outputs": []
    },
    {
      "metadata": {
        "id": "AB4V1gjgMhRD",
        "colab_type": "text"
      },
      "cell_type": "markdown",
      "source": [
        "#### Visualize the model's training progress"
      ]
    },
    {
      "metadata": {
        "id": "GKRigHFWMhRF",
        "colab_type": "code",
        "colab": {}
      },
      "cell_type": "code",
      "source": [
        "# Use the stats stored in the history object.\n",
        "hist = pd.DataFrame(history.history)\n",
        "hist['epoch'] = history.epoch\n",
        "hist.tail()"
      ],
      "execution_count": 0,
      "outputs": []
    },
    {
      "metadata": {
        "id": "OV0uRC-CMhRI",
        "colab_type": "code",
        "colab": {}
      },
      "cell_type": "code",
      "source": [
        "def plot_history(history):\n",
        "  hist = pd.DataFrame(history.history)\n",
        "  hist['epoch'] = history.epoch\n",
        "\n",
        "  plt.figure()\n",
        "  plt.xlabel('Epoch')\n",
        "  plt.ylabel('Mean Abs Error [Target]')\n",
        "  plt.plot(hist['epoch'], hist['mean_absolute_error'],\n",
        "           label='Train Error')\n",
        "  plt.plot(hist['epoch'], hist['val_mean_absolute_error'],\n",
        "           label = 'Val Error')\n",
        "  plt.legend()\n",
        "  plt.ylim([0,5])\n",
        "\n",
        "  plt.figure()\n",
        "  plt.xlabel('Epoch')\n",
        "  plt.ylabel('Mean Square Error [$Target^2$]')\n",
        "  plt.plot(hist['epoch'], hist['mean_squared_error'],\n",
        "           label='Train Error')\n",
        "  plt.plot(hist['epoch'], hist['val_mean_squared_error'],\n",
        "           label = 'Val Error')\n",
        "  plt.legend()\n",
        "  plt.ylim([0,20])\n",
        "\n",
        "plot_history(history)"
      ],
      "execution_count": 0,
      "outputs": []
    },
    {
      "metadata": {
        "id": "pep8p1NGMhRL",
        "colab_type": "code",
        "outputId": "b3a0bf54-a06b-4cff-9660-fb04a62b9229",
        "colab": {
          "base_uri": "https://localhost:8080/",
          "height": 34
        }
      },
      "cell_type": "code",
      "source": [
        "loss, mae, mse = model.evaluate(normed_valid_data, valid_labels, verbose=0)\n",
        "print(\"Testing set Mean Abs Error: {:5.2f} \".format(mae))"
      ],
      "execution_count": 0,
      "outputs": [
        {
          "output_type": "stream",
          "text": [
            "Testing set Mean Abs Error:  0.02 \n"
          ],
          "name": "stdout"
        }
      ]
    },
    {
      "metadata": {
        "id": "ceZbFa2gMhRS",
        "colab_type": "text"
      },
      "cell_type": "markdown",
      "source": [
        "## Make Prediction"
      ]
    },
    {
      "metadata": {
        "id": "VYvg48hAMhRU",
        "colab_type": "code",
        "colab": {}
      },
      "cell_type": "code",
      "source": [
        "valid_predictions = model.predict(normed_valid_data).flatten()"
      ],
      "execution_count": 0,
      "outputs": []
    },
    {
      "metadata": {
        "id": "--y_Q_5qMhRX",
        "colab_type": "text"
      },
      "cell_type": "markdown",
      "source": [
        "#### Do the 45-degree plot"
      ]
    },
    {
      "metadata": {
        "id": "7z6seBS8MhRX",
        "colab_type": "code",
        "colab": {}
      },
      "cell_type": "code",
      "source": [
        "plt.scatter(valid_labels, valid_predictions)\n",
        "plt.xlabel('True Values')\n",
        "plt.ylabel('Predictions')\n",
        "plt.axis('equal')\n",
        "plt.axis('square')\n",
        "plt.xlim([0,plt.xlim()[1]])\n",
        "plt.ylim([0,plt.ylim()[1]])\n",
        "_ = plt.plot([-100, 100], [-100, 100])"
      ],
      "execution_count": 0,
      "outputs": []
    },
    {
      "metadata": {
        "id": "fGaYrCdIMhRa",
        "colab_type": "text"
      },
      "cell_type": "markdown",
      "source": [
        "#### Error distribution"
      ]
    },
    {
      "metadata": {
        "id": "Eg_3xn_OMhRb",
        "colab_type": "code",
        "colab": {}
      },
      "cell_type": "code",
      "source": [
        "error = valid_predictions - valid_labels\n",
        "plt.hist(error, bins = 25)\n",
        "plt.xlabel(\"Prediction Error\")\n",
        "_ = plt.ylabel(\"Count\")"
      ],
      "execution_count": 0,
      "outputs": []
    },
    {
      "metadata": {
        "id": "tdsbHhkEMhRe",
        "colab_type": "code",
        "colab": {}
      },
      "cell_type": "code",
      "source": [
        "threedee = plt.figure().gca(projection='3d')\n",
        "threedee.scatter(valid_data['x0'], valid_data['x1'], valid_predictions)\n",
        "threedee.set_xlabel('x')\n",
        "threedee.set_ylabel('y')\n",
        "threedee.set_zlabel('f(x,y)')\n",
        "plt.show()"
      ],
      "execution_count": 0,
      "outputs": []
    }
  ]
}