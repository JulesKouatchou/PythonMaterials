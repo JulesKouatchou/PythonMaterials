{
  "nbformat": 4,
  "nbformat_minor": 0,
  "metadata": {
    "colab": {
      "name": "IntroMatplotlib.ipynb",
      "version": "0.3.2",
      "provenance": [],
      "collapsed_sections": [],
      "toc_visible": true,
      "include_colab_link": true
    },
    "kernelspec": {
      "display_name": "Python 3",
      "language": "python",
      "name": "python3"
    }
  },
  "cells": [
    {
      "cell_type": "markdown",
      "metadata": {
        "id": "view-in-github",
        "colab_type": "text"
      },
      "source": [
        "<a href=\"https://colab.research.google.com/github/JulesKouatchou/PythonMaterials/blob/master/IntroMatplotlib.ipynb\" target=\"_parent\"><img src=\"https://colab.research.google.com/assets/colab-badge.svg\" alt=\"Open In Colab\"/></a>"
      ]
    },
    {
      "metadata": {
        "id": "TEhvP9_TeSxb",
        "colab_type": "code",
        "colab": {}
      },
      "cell_type": "code",
      "source": [
        "from IPython.core.interactiveshell import InteractiveShell\n",
        "InteractiveShell.ast_node_interactivity = \"all\""
      ],
      "execution_count": 0,
      "outputs": []
    },
    {
      "metadata": {
        "id": "MElinAVCeSxu",
        "colab_type": "text"
      },
      "cell_type": "markdown",
      "source": [
        "![NASA](http://www.nasa.gov/sites/all/themes/custom/nasatwo/images/nasa-logo.svg)\n",
        "\n",
        "<center><h1><font size=\"+3\">Python Course for Advance Users</font></h1></center>\n",
        "\n",
        "---\n",
        "\n",
        "<center><h1>ASTG Series</h1></center>"
      ]
    },
    {
      "metadata": {
        "id": "ru50GvkweSxx",
        "colab_type": "text"
      },
      "cell_type": "markdown",
      "source": [
        "# Matplotlib"
      ]
    },
    {
      "metadata": {
        "id": "LBc8gr9meSxz",
        "colab_type": "text"
      },
      "cell_type": "markdown",
      "source": [
        "## Reference Documents"
      ]
    },
    {
      "metadata": {
        "id": "VIx_UCcceSx4",
        "colab_type": "text"
      },
      "cell_type": "markdown",
      "source": [
        "<OL>\n",
        "<LI> <A HREF=\"http://people.duke.edu/~ccc14/pcfb/numerics.html\">NumPy and Matplotlib (Practical Cumputing for Biologists)</A>\n",
        "<LI> <A HREF=\"http://scipy-lectures.github.io/intro/matplotlib/matplotlib.html\">Matplotlib: Plotting</A>\n",
        "<LI> <A HREF=\"http://www.labri.fr/perso/nrougier/teaching/matplotlib/\">Matplotlib Tutorial</A>\n",
        "<LI> <A HREF=\"http://matplotlib.sourceforge.net/gallery.html\">Image Gallery</A>\n",
        "<LI> <A HREF=\"http://videolectures.net/mloss08_hunter_mat\">Video Presentation</A>\n",
        "</OL>"
      ]
    },
    {
      "metadata": {
        "id": "6zC1Dl_ceSx7",
        "colab_type": "text"
      },
      "cell_type": "markdown",
      "source": [
        "## What is Matplolib?"
      ]
    },
    {
      "metadata": {
        "id": "gWVOfD_zeSx_",
        "colab_type": "text"
      },
      "cell_type": "markdown",
      "source": [
        "<UL>\n",
        "<LI> Library for making 2D plots of arrays in Python\n",
        "<LI> Makes heavy use of Numpy and other extension code to provide good performance\n",
        "<LI> Can be used to create plots with few commands\n",
        "</UL>\n",
        "<P>\n",
        "With Matplotlib, we can generate plots, histograms, power spectra, bar charts, \n",
        "   error charts, scatter plots, etc., with just a few lines of code."
      ]
    },
    {
      "metadata": {
        "id": "SE24hW2_eSyC",
        "colab_type": "text"
      },
      "cell_type": "markdown",
      "source": [
        "### Basic Sythax for Plotting"
      ]
    },
    {
      "metadata": {
        "id": "KTZfx-QleSyG",
        "colab_type": "code",
        "colab": {}
      },
      "cell_type": "code",
      "source": [
        "import numpy as np\n",
        "import matplotlib.pyplot as plt"
      ],
      "execution_count": 0,
      "outputs": []
    },
    {
      "metadata": {
        "id": "6IHQRjogeSyS",
        "colab_type": "code",
        "colab": {}
      },
      "cell_type": "code",
      "source": [
        ""
      ],
      "execution_count": 0,
      "outputs": []
    },
    {
      "metadata": {
        "id": "sRTvADmFe-iO",
        "colab_type": "text"
      },
      "cell_type": "markdown",
      "source": [
        "> x = [...]       # define the points on the x-axis\n",
        "\n",
        "\n",
        "\n",
        "> y = [...]       # define the points on the y-axis\n",
        "\n",
        "> plt.plot(x,y)\n",
        "\n",
        "> plt.show()      # display the plot on the screen"
      ]
    },
    {
      "metadata": {
        "id": "yukvXeSMeSyb",
        "colab_type": "text"
      },
      "cell_type": "markdown",
      "source": [
        "### Simple Plot"
      ]
    },
    {
      "metadata": {
        "id": "ZzD-oda_eSyd",
        "colab_type": "code",
        "colab": {}
      },
      "cell_type": "code",
      "source": [
        "x = [2, 3, 5, 7, 11]\n",
        "y = [4, 9, 5, 9, 1]\n",
        "plt.plot(x, y, '-', color='b', label='simple')\n",
        "plt.xlabel('x')\n",
        "plt.legend(loc='center')\n",
        "plt.title('Simple Plot')"
      ],
      "execution_count": 0,
      "outputs": []
    },
    {
      "metadata": {
        "id": "67F__Tm1eSyn",
        "colab_type": "text"
      },
      "cell_type": "markdown",
      "source": [
        "### Useful Syntax"
      ]
    },
    {
      "metadata": {
        "id": "46G-HVdMeSyp",
        "colab_type": "raw"
      },
      "cell_type": "markdown",
      "source": [
        "> plot(x,y)\n",
        "\n",
        "> xlabel('string')         # label the x-axis\n",
        "\n",
        "> ylabel('string')         # label the y-axis\n",
        "\n",
        "> title('string')          # write the title of the plot\n",
        "\n",
        "> grid(true/false)         # adds grid boxes\n",
        "\n",
        "> savefig('fileName.type') # type can be png, ps, pdf, etc\n",
        "\n",
        "> show()                   # display the graph on the screen\n",
        "\n",
        "> xlim(xmin,xmax)          # set/get the xlimits\n",
        "\n",
        "> ylim(ymin,ymax)          # set/get the ylimits\n",
        "\n",
        "> hold(True/False)         # to overlay figures on the same graph"
      ]
    },
    {
      "metadata": {
        "id": "9pvxeuyreSys",
        "colab_type": "text"
      },
      "cell_type": "markdown",
      "source": [
        "### Simple Cosine Plot"
      ]
    },
    {
      "metadata": {
        "id": "zYCm2iXGeSyu",
        "colab_type": "code",
        "colab": {}
      },
      "cell_type": "code",
      "source": [
        "t = np.arange(0.0, 1.0+0.01, 0.01)\n",
        "s = np.cos(2*2*np.pi*t)\n",
        "plt.plot(t, s)\n",
        "\n",
        "plt.xlabel('time (s)')\n",
        "plt.ylabel('voltage (mV)')\n",
        "plt.title('About as simple as it gets, folks')\n",
        "plt.grid(True)"
      ],
      "execution_count": 0,
      "outputs": []
    },
    {
      "metadata": {
        "id": "hUWxrZsxeSy4",
        "colab_type": "text"
      },
      "cell_type": "markdown",
      "source": [
        "### Adding Ticks - Changing Colors and Line Widths - Setting Limits"
      ]
    },
    {
      "metadata": {
        "id": "uHZlCAxHeSy6",
        "colab_type": "code",
        "colab": {}
      },
      "cell_type": "code",
      "source": [
        "X = np.linspace(-np.pi, np.pi, 256,endpoint=True)\n",
        "C = np.cos(X)\n",
        "S = np.sin(X)\n",
        "\n",
        "# Plot cosine using blue color with a continuous line of width 1 (pixels)\n",
        "plt.plot(X, C, color=\"blue\", linewidth=1.0, linestyle=\"-\")\n",
        "\n",
        "# Plot sine using green color with a continuous line of width 1 (pixels)\n",
        "plt.plot(X, S, color=\"green\", linewidth=1.0, linestyle=\"-\")\n",
        "\n",
        "# Set x limits\n",
        "plt.xlim(-4.0,4.0)\n",
        "\n",
        "# Set x ticks\n",
        "plt.xticks(np.linspace(-4,4,5,endpoint=True))\n",
        "\n",
        "# Set y limits\n",
        "plt.ylim(-1.05,1.05)\n",
        "\n",
        "# Set y ticks\n",
        "plt.yticks(np.linspace(-1,1,5,endpoint=True))"
      ],
      "execution_count": 0,
      "outputs": []
    },
    {
      "metadata": {
        "id": "qvpfYOeieSzG",
        "colab_type": "text"
      },
      "cell_type": "markdown",
      "source": [
        "### Moving Spines\n",
        "\n",
        "- Spines are the lines connecting the axis tick marks and noting the boundaries of the data area\n",
        "- They can be placed at arbitrary positions, especially on the border of the axis.\n",
        "- There are four of them: top, bottom, left and right\n",
        "- We want to have them in the middle of the plot."
      ]
    },
    {
      "metadata": {
        "id": "kPy5lArveSzK",
        "colab_type": "code",
        "colab": {}
      },
      "cell_type": "code",
      "source": [
        "X = np.linspace(-np.pi, np.pi, 256,endpoint=True)\n",
        "\n",
        "C = np.cos(X)\n",
        "S = np.sin(X)\n",
        "\n",
        "fig = plt.figure()\n",
        "ax = fig.add_subplot(111)\n",
        "\n",
        "# Plot cosine using blue color with a continuous line of width 1 (pixels)\n",
        "ax.plot(X, C, color=\"blue\", linewidth=1.0, linestyle=\"-\")\n",
        "\n",
        "# Plot sine using green color with a continuous line of width 1 (pixels)\n",
        "ax.plot(X, S, color=\"green\", linewidth=1.0, linestyle=\"-\")\n",
        "\n",
        "# Set x limits\n",
        "ax.set_xlim(-4.0,4.0)\n",
        "\n",
        "# Set x ticks\n",
        "ax.set_xticks(np.linspace(-4,4,9,endpoint=True))\n",
        "\n",
        "# Set y limits\n",
        "ax.set_ylim(-1.05,1.05)\n",
        "\n",
        "# Set y ticks\n",
        "ax.set_yticks(np.linspace(-1,1,5,endpoint=True))\n",
        "\n",
        "# Move left y-axis and bottom x-axis to centre, passing through (0,0)\n",
        "ax.spines['left'].set_position('center')     # we want the left spline to be centered\n",
        "ax.spines['bottom'].set_position('center')   # we want the bottom spline to be centered\n",
        "\n",
        "# Eliminate upper and right axes\n",
        "ax.spines['right'].set_color('none')\n",
        "ax.spines['top'].set_color('none')\n",
        "\n",
        "# Show ticks on the left and lower axes only\n",
        "ax.xaxis.set_ticks_position('bottom')\n",
        "ax.yaxis.set_ticks_position('left')"
      ],
      "execution_count": 0,
      "outputs": []
    },
    {
      "metadata": {
        "id": "GNiq1RnMeSzP",
        "colab_type": "text"
      },
      "cell_type": "markdown",
      "source": [
        "### Multiple Figures on the Same Plot"
      ]
    },
    {
      "metadata": {
        "id": "iZrav6hHeSzT",
        "colab_type": "code",
        "outputId": "9c641d30-e4f0-4095-8b63-43de1e60ab2f",
        "colab": {
          "base_uri": "https://localhost:8080/",
          "height": 364
        }
      },
      "cell_type": "code",
      "source": [
        "def f(t):\n",
        "    return np.exp(-t) * np.cos(2*np.pi*t)\n",
        "\n",
        "t1 = np.arange(0.0, 5.0, 0.1)\n",
        "t2 = np.arange(0.0, 5.0, 0.02)\n",
        "\n",
        "plt.figure(1)\n",
        "plt.subplot(2,1,2)\n",
        "plt.plot(t1, f(t1), 'bo', t2, f(t2), 'k')\n",
        "\n",
        "plt.subplot(2,1,1)\n",
        "plt.plot(t2, np.cos(2*np.pi*t2), 'r--')"
      ],
      "execution_count": 0,
      "outputs": [
        {
          "output_type": "execute_result",
          "data": {
            "text/plain": [
              "[<matplotlib.lines.Line2D at 0x7f20d05b29e8>]"
            ]
          },
          "metadata": {
            "tags": []
          },
          "execution_count": 11
        },
        {
          "output_type": "display_data",
          "data": {
            "image/png": "[encoded data removed]",
            "text/plain": [
              "<Figure size 576x396 with 2 Axes>"
            ]
          },
          "metadata": {
            "tags": []
          }
        }
      ]
    },
    {
      "metadata": {
        "id": "-LY4MBi8eSza",
        "colab_type": "text"
      },
      "cell_type": "markdown",
      "source": [
        "### Add Legend"
      ]
    },
    {
      "metadata": {
        "id": "tns7UgDTeSzd",
        "colab_type": "code",
        "colab": {}
      },
      "cell_type": "code",
      "source": [
        "x = np.linspace(0, 2*np.pi, 300)\n",
        "y = np.sin(x)\n",
        "y2 = np.sin(x**2)\n",
        "plt.plot(x, y, label=r'$\\sin(x)$')\n",
        "plt.plot(x, y2, label=r'$\\sin(x^2)$')\n",
        "plt.title('Some functions')\n",
        "plt.xlabel('x')\n",
        "plt.ylabel('y')\n",
        "plt.xlim(0,9)\n",
        "plt.grid()\n",
        "plt.legend(loc='upper right')"
      ],
      "execution_count": 0,
      "outputs": []
    },
    {
      "metadata": {
        "id": "XzbF_pQxeSzl",
        "colab_type": "text"
      },
      "cell_type": "markdown",
      "source": [
        "### Annotating Text"
      ]
    },
    {
      "metadata": {
        "id": "nWDCytEgeSzn",
        "colab_type": "code",
        "colab": {}
      },
      "cell_type": "code",
      "source": [
        "ax = plt.subplot(111)\n",
        "t = np.arange(0.0, 5.0, 0.01)\n",
        "s = np.cos(2*np.pi*t)\n",
        "line, = plt.plot(t, s, lw=2)\n",
        "\n",
        "plt.annotate('local max', xy=(2, 1), \\\n",
        "        xytext=(3, 1.5), \\\n",
        "        arrowprops=dict(facecolor='black', \\\n",
        "        shrink=0.05), )\n",
        "\n",
        "plt.ylim(-2,2)"
      ],
      "execution_count": 0,
      "outputs": []
    },
    {
      "metadata": {
        "id": "usItfnIEeSzt",
        "colab_type": "text"
      },
      "cell_type": "markdown",
      "source": [
        "### Plot with Fill"
      ]
    },
    {
      "metadata": {
        "id": "T7elWL1meSzu",
        "colab_type": "code",
        "colab": {}
      },
      "cell_type": "code",
      "source": [
        "t = np.arange(0.0, 1.01, 0.01)\n",
        "s = np.sin(2*2*np.pi*t)\n",
        "\n",
        "plt.fill(t, s*np.exp(-5*t), 'r')\n",
        "plt.grid(True)"
      ],
      "execution_count": 0,
      "outputs": []
    },
    {
      "metadata": {
        "id": "H2n_hhjWeSz9",
        "colab_type": "text"
      },
      "cell_type": "markdown",
      "source": [
        "### Histogram"
      ]
    },
    {
      "metadata": {
        "id": "ZozGEwbHeSz-",
        "colab_type": "code",
        "colab": {}
      },
      "cell_type": "code",
      "source": [
        "mu, sigma = 100, 15\n",
        "x = mu + sigma * np.random.randn(10000)\n",
        "\n",
        "# the histogram of the data\n",
        "n, bins, patches = plt.hist(x, 50, normed=1, \\\n",
        "                       facecolor='g', alpha=0.75)\n",
        "\n",
        "plt.xlabel('Smarts')\n",
        "plt.ylabel('Probability')\n",
        "plt.title('Histogram of IQ')\n",
        "plt.text(60, .025, r'$\\mu=100,\\ \\sigma=\\frac{1}{\\sqrt{15}}$')\n",
        "plt.axis([40, 160, 0, 0.03])\n",
        "plt.grid(True)"
      ],
      "execution_count": 0,
      "outputs": []
    },
    {
      "metadata": {
        "id": "wGOfG26CeS0E",
        "colab_type": "text"
      },
      "cell_type": "markdown",
      "source": [
        "### Log Plot"
      ]
    },
    {
      "metadata": {
        "id": "DBS-h-f1eS0G",
        "colab_type": "code",
        "colab": {}
      },
      "cell_type": "code",
      "source": [
        "plt.subplots_adjust(hspace=0.4)\n",
        "t = np.arange(0.01, 20.0, 0.01)\n",
        "\n",
        "# log y axis\n",
        "plt.subplot(221)\n",
        "plt.semilogy(t, np.exp(-t/5.0))\n",
        "plt.title('semilogy')\n",
        "plt.grid(True)\n",
        "\n",
        "# log x axis\n",
        "plt.subplot(222)\n",
        "plt.semilogx(t, np.sin(2*np.pi*t))\n",
        "plt.title('semilogx')\n",
        "plt.grid(True)\n",
        "\n",
        "# log x and y axis\n",
        "plt.subplot(223)\n",
        "plt.loglog(t, 20*np.exp(-t/10.0), basex=2)\n",
        "plt.grid(True)\n",
        "plt.title('loglog base 4 on x')\n",
        "\n",
        "# with errorbars: clip non-positive values\n",
        "ax = plt.subplot(224)\n",
        "ax.set_xscale(\"log\", nonposx='clip')\n",
        "ax.set_yscale(\"log\", nonposy='clip')\n",
        "\n",
        "x = 10.0**np.linspace(0.0, 2.0, 20)\n",
        "y = x**2.0\n",
        "plt.errorbar(x, y, xerr=0.1*x, yerr=5.0+0.75*y)\n",
        "ax.set_ylim(ymin=0.1)\n",
        "ax.set_title('Errorbars go negative')\n"
      ],
      "execution_count": 0,
      "outputs": []
    },
    {
      "metadata": {
        "id": "lZ0pDMmleS0M",
        "colab_type": "text"
      },
      "cell_type": "markdown",
      "source": [
        "### Pie Chart"
      ]
    },
    {
      "metadata": {
        "id": "MMa-qfpbeS0U",
        "colab_type": "code",
        "colab": {}
      },
      "cell_type": "code",
      "source": [
        "# make a square figure and axes\n",
        "fig = plt.figure(1, figsize=(6,6))\n",
        "ax = fig.add_axes([0.1, 0.1, 0.8, 0.8])\n",
        "labels = 'Frogs', 'Hogs', 'Dogs', 'Logs'\n",
        "fracs = [15,30,45, 10]\n",
        "explode=(0, 0.1, 0, 0)\n",
        "ax.pie(fracs, explode=explode, labels=labels, autopct='%1.1f%%', shadow=True)\n",
        "ax.set_title('Raining Hogs and Dogs', bbox={'facecolor':'0.9', 'pad':15})"
      ],
      "execution_count": 0,
      "outputs": []
    },
    {
      "metadata": {
        "id": "7YHSZOsqeS0f",
        "colab_type": "text"
      },
      "cell_type": "markdown",
      "source": [
        "### Contour Plot and Colorbar"
      ]
    },
    {
      "metadata": {
        "id": "YKuNjk4yeS0g",
        "colab_type": "code",
        "colab": {}
      },
      "cell_type": "code",
      "source": [
        "from pylab import *\n",
        "delta = 0.01\n",
        "x = arange(-3.0, 3.0, delta)\n",
        "y = arange(-3.0, 3.0, delta)\n",
        "X,Y = meshgrid(x, y)\n",
        "Z1 = bivariate_normal(X, Y, 1.0, 1.0, 0.0, 0.0)\n",
        "Z2 = bivariate_normal(X, Y, 1.5, 0.5, 1, 1)\n",
        "Z = Z2 - Z1 # difference of Gaussians\n",
        "\n",
        "cmap = cm.get_cmap('jet', 10)    # 10 discrete colors\n",
        "\n",
        "im = imshow(Z, cmap=cmap, interpolation='bilinear')\n",
        "axis('off')\n",
        "colorbar()\n"
      ],
      "execution_count": 0,
      "outputs": []
    },
    {
      "metadata": {
        "id": "HMIFJL8IeS0r",
        "colab_type": "text"
      },
      "cell_type": "markdown",
      "source": [
        "### Scatter Plot"
      ]
    },
    {
      "metadata": {
        "id": "c6i0mpq3eS0u",
        "colab_type": "code",
        "colab": {}
      },
      "cell_type": "code",
      "source": [
        "from numpy import random\n",
        "\n",
        "random.seed(0)\n",
        "mu_1 = random.randn(2)\n",
        "sigma_1 = random.randn()\n",
        "x_1 = (random.randn(1000)*sigma_1)+mu_1[0]\n",
        "y_1 = (random.randn(1000)*sigma_1)+mu_1[1]\n",
        "\n",
        "mu_2 = random.randn(2)\n",
        "sigma_2 = random.randn()\n",
        "x_2 = (random.randn(1000)*sigma_2)+mu_2[0]\n",
        "y_2 = (random.randn(1000)*sigma_2)+mu_2[1]\n",
        "\n",
        "fig = plt.figure()\n",
        "ax = fig.add_subplot(1,1,1)\n",
        "ax.scatter(x_1,y_1,color='r',edgecolor='k',alpha=0.25)\n",
        "ax.scatter(x_2,y_2,color='b',edgecolor='k',alpha=0.25)"
      ],
      "execution_count": 0,
      "outputs": []
    },
    {
      "metadata": {
        "id": "spyYDgeXeS01",
        "colab_type": "text"
      },
      "cell_type": "markdown",
      "source": [
        "### Manipulating Images"
      ]
    },
    {
      "metadata": {
        "id": "VjXS5NjweS05",
        "colab_type": "text"
      },
      "cell_type": "markdown",
      "source": [
        "img = plt.imread('dessert.png')\n",
        "img.shape"
      ]
    },
    {
      "metadata": {
        "id": "DCqCNb1ZeS07",
        "colab_type": "text"
      },
      "cell_type": "markdown",
      "source": [
        "plt.imshow(img)"
      ]
    },
    {
      "metadata": {
        "id": "GjFYgwK1eS1C",
        "colab_type": "code",
        "colab": {}
      },
      "cell_type": "code",
      "source": [
        "# Plot the r, g, b channels of the image.\n",
        "fig, ax = plt.subplots(1,4, figsize=(10,6))\n",
        "ax[0].imshow(img[:,:,0], cmap=cm.Reds_r)\n",
        "ax[1].imshow(img[:,:,1], cmap=cm.Blues_r)\n",
        "ax[2].imshow(img[:,:,2], cmap=cm.Greens_r)\n",
        "ax[3].imshow(img);\n",
        "for a in ax:\n",
        "    a.set_xticklabels([])\n",
        "    a.set_yticklabels([])"
      ],
      "execution_count": 0,
      "outputs": []
    },
    {
      "metadata": {
        "id": "J5-yDT6FeS1M",
        "colab_type": "code",
        "colab": {}
      },
      "cell_type": "code",
      "source": [
        ""
      ],
      "execution_count": 0,
      "outputs": []
    },
    {
      "metadata": {
        "id": "ApuPMElYeS1T",
        "colab_type": "text"
      },
      "cell_type": "markdown",
      "source": [
        "## Exercise"
      ]
    },
    {
      "metadata": {
        "id": "pgD6eSxleS1V",
        "colab_type": "text"
      },
      "cell_type": "markdown",
      "source": [
        "Use the above cosine/sine plots to produce something like:"
      ]
    },
    {
      "metadata": {
        "id": "TrtmdHYUgU8-",
        "colab_type": "code",
        "colab": {}
      },
      "cell_type": "code",
      "source": [
        "![SINE](blob:https://colab.research.google.com/18ada0b3-abdc-404f-967e-80e9c393f289/fig_annotate.png)"
      ],
      "execution_count": 0,
      "outputs": []
    },
    {
      "metadata": {
        "id": "02LsDoHbg58I",
        "colab_type": "text"
      },
      "cell_type": "markdown",
      "source": [
        "![picture](drive/Colab Notebook/)"
      ]
    },
    {
      "metadata": {
        "id": "_Bhfcr5XeS1Y",
        "colab_type": "code",
        "outputId": "4ebfdcd0-0b63-41a9-daad-dd811b2b455c",
        "colab": {
          "base_uri": "https://localhost:8080/",
          "height": 46
        }
      },
      "cell_type": "code",
      "source": [
        "%%html\n",
        "<img src='drive/Colab Notebooks/dessert.png' />"
      ],
      "execution_count": 0,
      "outputs": [
        {
          "output_type": "display_data",
          "data": {
            "text/html": [
              "<img src='drive/Colab Notebooks/dessert.png' />"
            ],
            "text/plain": [
              "<IPython.core.display.HTML object>"
            ]
          },
          "metadata": {
            "tags": []
          }
        }
      ]
    },
    {
      "metadata": {
        "id": "E5R_0dJr_K-Q",
        "colab_type": "code",
        "colab": {}
      },
      "cell_type": "code",
      "source": [
        ""
      ],
      "execution_count": 0,
      "outputs": []
    }
  ]
}